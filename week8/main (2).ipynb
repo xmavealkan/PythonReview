{
 "cells": [
  {
   "attachments": {},
   "cell_type": "markdown",
   "metadata": {},
   "source": [
    "## How to master at solving coding questions\n",
    "#### 1. Understand the problem: Read and understand the problem statement thoroughly.\n",
    "\n",
    "#### 2. Identify key elements: Identify the requirements, input data, expected output, constraints, and patterns mentioned in the problem.\n",
    "\n",
    "#### 3. Break it down: Divide the problem into smaller parts, look for patterns or repetitions, and simplify the problem.\n",
    "\n",
    "#### 4. Pseudocode: Write simplified, high-level pseudocode to plan the logic and structure of the solution algorithm."
   ]
  },
  {
   "attachments": {},
   "cell_type": "markdown",
   "metadata": {},
   "source": [
    "## Review"
   ]
  },
  {
   "attachments": {},
   "cell_type": "markdown",
   "metadata": {},
   "source": [
    "#### For Loops (Deeper Level):\n",
    "#### For loops can be used not only to iterate over a range of numbers but also to iterate over elements of a list, string, or any iterable object. Here are some advanced examples:"
   ]
  },
  {
   "cell_type": "code",
   "execution_count": 1,
   "metadata": {},
   "outputs": [
    {
     "name": "stdout",
     "output_type": "stream",
     "text": [
      "apple\n",
      "banana\n",
      "cherry\n",
      "Number of vowels: 2\n"
     ]
    }
   ],
   "source": [
    "# Example 1: Iterate over a list and print each element\n",
    "fruits = [\"apple\", \"banana\", \"cherry\"]\n",
    "for fruit in fruits:\n",
    "    print(fruit)\n",
    "\n",
    "# Example 2: Iterate over a string and count the number of vowels\n",
    "word = \"hello\"\n",
    "vowel_count = 0\n",
    "for char in word:\n",
    "    if char in \"aeiou\":\n",
    "        vowel_count += 1\n",
    "print(\"Number of vowels:\", vowel_count)\n"
   ]
  },
  {
   "attachments": {},
   "cell_type": "markdown",
   "metadata": {},
   "source": [
    "#### While Loops (Deeper Level):\n",
    "#### While loops can be used for more complex iteration scenarios where the number of iterations is not known in advance. Here are a couple of advanced examples:"
   ]
  },
  {
   "cell_type": "code",
   "execution_count": 2,
   "metadata": {},
   "outputs": [
    {
     "name": "stdout",
     "output_type": "stream",
     "text": [
      "0\n",
      "1\n",
      "1\n",
      "2\n",
      "3\n",
      "5\n",
      "8\n",
      "13\n",
      "21\n",
      "34\n",
      "55\n",
      "89\n",
      "Sum: 16\n"
     ]
    }
   ],
   "source": [
    "# Example 3: Generate Fibonacci sequence using a while loop\n",
    "a, b = 0, 1\n",
    "while a < 100:\n",
    "    print(a)\n",
    "    a, b = b, a + b\n",
    "\n",
    "# Example 4: Take input from the user until a specific condition is met\n",
    "total = 0\n",
    "while True:\n",
    "    num = int(input(\"Enter a number (0 to quit): \"))\n",
    "    if num == 0:\n",
    "        break\n",
    "    total += num\n",
    "print(\"Sum:\", total)\n"
   ]
  },
  {
   "attachments": {},
   "cell_type": "markdown",
   "metadata": {},
   "source": [
    "### Conditionals (Deeper Level):\n",
    "### Conditionals can be used in more complex scenarios with multiple conditions, nested conditions, and logical operators. Here are some advanced examples:"
   ]
  },
  {
   "cell_type": "code",
   "execution_count": null,
   "metadata": {},
   "outputs": [],
   "source": [
    "# Example 5: Check if a number is positive, negative, or zero\n",
    "num = int(input(\"Enter a number: \"))\n",
    "if num > 0:\n",
    "    print(\"The number is positive.\")\n",
    "elif num < 0:\n",
    "    print(\"The number is negative.\")\n",
    "else:\n",
    "    print(\"The number is zero.\")\n",
    "\n",
    "# Example 6: Check if a year is a leap year\n",
    "year = int(input(\"Enter a year: \"))\n",
    "if year % 4 == 0 and (year % 100 != 0 or year % 400 == 0):\n",
    "    print(\"Leap year\")\n",
    "else:\n",
    "    print(\"Not a leap year\")\n"
   ]
  },
  {
   "attachments": {},
   "cell_type": "markdown",
   "metadata": {},
   "source": [
    "### Functions (Deeper Level):\n",
    "### Functions can have parameters, return values, and even be recursive. Here are some advanced examples:"
   ]
  },
  {
   "cell_type": "code",
   "execution_count": 3,
   "metadata": {},
   "outputs": [
    {
     "name": "stdout",
     "output_type": "stream",
     "text": [
      "Factorial: 120\n",
      "Maximum: 9\n"
     ]
    }
   ],
   "source": [
    "# Example 7: Function to calculate the factorial of a number (recursive)\n",
    "def factorial(n):\n",
    "    if n == 0:\n",
    "        return 1\n",
    "    return n * factorial(n - 1)\n",
    "\n",
    "result = factorial(5)\n",
    "print(\"Factorial:\", result)\n",
    "\n",
    "# Example 8: Function to find the maximum element in a list\n",
    "def find_max(numbers):\n",
    "    max_num = float(\"-inf\")\n",
    "    for num in numbers:\n",
    "        if num > max_num:\n",
    "            max_num = num\n",
    "    return max_num\n",
    "\n",
    "numbers = [5, 2, 9, 1, 7]\n",
    "max_num = find_max(numbers)\n",
    "print(\"Maximum:\", max_num)\n"
   ]
  },
  {
   "attachments": {},
   "cell_type": "markdown",
   "metadata": {},
   "source": [
    "### Questions\n",
    "#### 1. Write a program that takes a list of integers as input and prints the sum of all the even \n",
    "#### 2. Write a program that takes a character as input and checks if it is a vowel or a consonant.\n",
    "#### 3. Write a function that takes a string as input and returns the length of the string."
   ]
  },
  {
   "cell_type": "code",
   "execution_count": 2,
   "metadata": {},
   "outputs": [
    {
     "name": "stdout",
     "output_type": "stream",
     "text": [
      "30\n"
     ]
    }
   ],
   "source": [
    "def even_nums(numlist):\n",
    "    result = 0\n",
    "    \n",
    "    for n in numlist:\n",
    "        if n % 2 == 0:\n",
    "            result += n\n",
    "    \n",
    "    return result\n",
    "\n",
    "nums = list(range(1,11))\n",
    "result = even_nums(nums)\n",
    "print(result)"
   ]
  }
 ],
 "metadata": {
  "kernelspec": {
   "display_name": "base",
   "language": "python",
   "name": "python3"
  },
  "language_info": {
   "codemirror_mode": {
    "name": "ipython",
    "version": 3
   },
   "file_extension": ".py",
   "mimetype": "text/x-python",
   "name": "python",
   "nbconvert_exporter": "python",
   "pygments_lexer": "ipython3",
   "version": "3.10.11"
  },
  "orig_nbformat": 4
 },
 "nbformat": 4,
 "nbformat_minor": 2
}
