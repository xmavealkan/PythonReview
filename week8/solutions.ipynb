{
 "cells": [
  {
   "cell_type": "code",
   "execution_count": 1,
   "metadata": {},
   "outputs": [
    {
     "name": "stdout",
     "output_type": "stream",
     "text": [
      "this is letter a consonant \n",
      "this is letter a consonant \n",
      "this is letter a consonant \n",
      "this is letter a consonant \n",
      "this is letter a consonant \n"
     ]
    }
   ],
   "source": [
    "user = input(\"enter the any word: \")\n",
    "\n",
    "def vowels_letter(letter):\n",
    "    \n",
    "    for n in user:\n",
    "        if n in letter:\n",
    "            print(\"this is letter a vowel\")\n",
    "        else:\n",
    "            print(\"this is letter a consonant \")\n",
    "            \n",
    "vowels = ['a', 'e', 'i', 'u', 'o']\n",
    "n = vowels_letter(vowels)\n"
   ]
  },
  {
   "cell_type": "code",
   "execution_count": 2,
   "metadata": {},
   "outputs": [
    {
     "name": "stdout",
     "output_type": "stream",
     "text": [
      "30\n"
     ]
    }
   ],
   "source": [
    "def even_nums(numlist):\n",
    "    result = 0\n",
    "    \n",
    "    for n in numlist:\n",
    "        if n % 2 == 0:\n",
    "            result += n\n",
    "    \n",
    "    return result\n",
    "\n",
    "nums = list(range(1,11))\n",
    "result = even_nums(nums)\n",
    "print(result)"
   ]
  },
  {
   "cell_type": "code",
   "execution_count": 3,
   "metadata": {},
   "outputs": [
    {
     "data": {
      "text/plain": [
       "5"
      ]
     },
     "execution_count": 3,
     "metadata": {},
     "output_type": "execute_result"
    }
   ],
   "source": [
    "def lengh_letters(letter):\n",
    "    counter = 0\n",
    "    \n",
    "    for n in user:\n",
    "        if n in letter:\n",
    "            counter += 1\n",
    "    \n",
    "    return counter \n",
    "\n",
    "user = input(\"enter the any word: \")\n",
    "counter = lengh_letters(user)\n",
    "counter"
   ]
  }
 ],
 "metadata": {
  "kernelspec": {
   "display_name": "Python 3",
   "language": "python",
   "name": "python3"
  },
  "language_info": {
   "codemirror_mode": {
    "name": "ipython",
    "version": 3
   },
   "file_extension": ".py",
   "mimetype": "text/x-python",
   "name": "python",
   "nbconvert_exporter": "python",
   "pygments_lexer": "ipython3",
   "version": "3.10.11"
  },
  "orig_nbformat": 4
 },
 "nbformat": 4,
 "nbformat_minor": 2
}
