{
 "cells": [
  {
   "attachments": {},
   "cell_type": "markdown",
   "metadata": {},
   "source": [
    "# The Dictionary Data Type\n"
   ]
  },
  {
   "attachments": {},
   "cell_type": "markdown",
   "metadata": {},
   "source": [
    "### A dictionary is a built-in data structure in Python used to store data in key-value pairs.\n",
    "### Dictionaries are also known as associative arrays or hash maps in other programming languages."
   ]
  },
  {
   "cell_type": "code",
   "execution_count": 4,
   "metadata": {},
   "outputs": [],
   "source": [
    "# Empty dictionary\n",
    "empty_dict = {}\n",
    "\n",
    "# Dictionary with initial key-value pairs\n",
    "student = {\"name\": \"John\", \"age\": 20, \"grade\": \"A\"}\n",
    "\n",
    "# Using the dict() constructor\n",
    "book = dict(title=\"Python Cookbook\", author=\"David Beazley\", year=2018)"
   ]
  },
  {
   "cell_type": "code",
   "execution_count": 5,
   "metadata": {},
   "outputs": [
    {
     "name": "stdout",
     "output_type": "stream",
     "text": [
      "John\n",
      "David Beazley\n"
     ]
    }
   ],
   "source": [
    "# Accessing values by key\n",
    "print(student[\"name\"])  # Output: John\n",
    "print(book[\"author\"])   # Output: David Beazley"
   ]
  },
  {
   "cell_type": "code",
   "execution_count": 6,
   "metadata": {},
   "outputs": [
    {
     "data": {
      "text/plain": [
       "{'name': 'John', 'age': 21, 'grade': 'A', 'school': 'XYZ High School'}"
      ]
     },
     "execution_count": 6,
     "metadata": {},
     "output_type": "execute_result"
    }
   ],
   "source": [
    "# Modifying a value\n",
    "student[\"age\"] = 21\n",
    "\n",
    "# Adding a new key-value pair\n",
    "student[\"school\"] = \"XYZ High School\"\n",
    "student\n"
   ]
  },
  {
   "cell_type": "code",
   "execution_count": null,
   "metadata": {},
   "outputs": [],
   "source": [
    "myCat = {}\n",
    "type(myCat)"
   ]
  },
  {
   "attachments": {},
   "cell_type": "markdown",
   "metadata": {},
   "source": [
    "# Dictionaries vs. Lists\n",
    "\n",
    "### Dictionaries are unordered, meaning that the elements are not stored in a specific order like in a list or tuple.\n"
   ]
  },
  {
   "cell_type": "code",
   "execution_count": 7,
   "metadata": {},
   "outputs": [
    {
     "data": {
      "text/plain": [
       "False"
      ]
     },
     "execution_count": 7,
     "metadata": {},
     "output_type": "execute_result"
    }
   ],
   "source": [
    "spam = ['cats', 'dogs', 'mouse']\n",
    "bacon = ['dogs', 'mouse', 'cats']\n",
    "spam == bacon"
   ]
  },
  {
   "cell_type": "code",
   "execution_count": 8,
   "metadata": {},
   "outputs": [
    {
     "data": {
      "text/plain": [
       "True"
      ]
     },
     "execution_count": 8,
     "metadata": {},
     "output_type": "execute_result"
    }
   ],
   "source": [
    "eggs = {'name': 'Zophie', 'species': 'cat', 'age': '8'}\n",
    "ham = {'species': 'cat', 'age': '8', 'name': 'Zophie'}\n",
    "eggs == ham"
   ]
  },
  {
   "attachments": {},
   "cell_type": "markdown",
   "metadata": {},
   "source": [
    "# The keys(), values(), and items() Methods\n"
   ]
  },
  {
   "cell_type": "code",
   "execution_count": 9,
   "metadata": {},
   "outputs": [
    {
     "name": "stdout",
     "output_type": "stream",
     "text": [
      "4\n",
      "dict_keys(['name', 'age', 'grade', 'school'])\n",
      "dict_values(['John', 21, 'A', 'XYZ High School'])\n",
      "dict_items([('name', 'John'), ('age', 21), ('grade', 'A'), ('school', 'XYZ High School')])\n",
      "Name key exists\n"
     ]
    },
    {
     "data": {
      "text/plain": [
       "{'name': 'John', 'age': 21, 'school': 'XYZ High School'}"
      ]
     },
     "execution_count": 9,
     "metadata": {},
     "output_type": "execute_result"
    }
   ],
   "source": [
    "# Getting the number of key-value pairs\n",
    "print(len(student))  # Output: 4\n",
    "\n",
    "# Retrieving a list of keys\n",
    "print(student.keys())  # Output: dict_keys(['name', 'age', 'grade', 'school'])\n",
    "\n",
    "# Retrieving a list of values\n",
    "print(student.values())  # Output: dict_values(['John', 21, 'A', 'XYZ High School'])\n",
    "\n",
    "# Retrieving a list of key-value pairs\n",
    "print(student.items())  # Output: dict_items([('name', 'John'), ('age', 21), ('grade', 'A'), ('school', 'XYZ High School')])\n",
    "\n",
    "# Checking if a key exists\n",
    "if \"name\" in student:\n",
    "    print(\"Name key exists\")\n",
    "\n",
    "# Deleting a key-value pair\n",
    "del student[\"grade\"]\n",
    "\n",
    "student"
   ]
  },
  {
   "attachments": {},
   "cell_type": "markdown",
   "metadata": {},
   "source": [
    "# Iterating over Dictionaries\n"
   ]
  },
  {
   "cell_type": "code",
   "execution_count": 10,
   "metadata": {},
   "outputs": [
    {
     "name": "stdout",
     "output_type": "stream",
     "text": [
      "name\n",
      "age\n",
      "school\n",
      "John\n",
      "21\n",
      "XYZ High School\n",
      "name John\n",
      "age 21\n",
      "school XYZ High School\n"
     ]
    }
   ],
   "source": [
    "# Iterating over keys\n",
    "for key in student:\n",
    "    print(key)\n",
    "\n",
    "# Iterating over values\n",
    "for value in student.values():\n",
    "    print(value)\n",
    "\n",
    "# Iterating over key-value pairs\n",
    "for key, value in student.items():\n",
    "    print(key, value)\n"
   ]
  },
  {
   "attachments": {},
   "cell_type": "markdown",
   "metadata": {},
   "source": [
    "# Nested Dictionaries"
   ]
  },
  {
   "cell_type": "code",
   "execution_count": 12,
   "metadata": {},
   "outputs": [
    {
     "name": "stdout",
     "output_type": "stream",
     "text": [
      "88\n"
     ]
    }
   ],
   "source": [
    "# Creating a nested dictionary\n",
    "student = {\n",
    "    \"name\": \"John\",\n",
    "    \"age\": 20,\n",
    "    \"grades\": {\n",
    "        \"math\": 95,\n",
    "        \"science\": 88,\n",
    "        \"history\": 92\n",
    "    }\n",
    "}\n",
    "\n",
    "# Accessing values in nested dictionaries\n",
    "print(student[\"grades\"][\"science\"])  # Output: 95\n"
   ]
  },
  {
   "attachments": {},
   "cell_type": "markdown",
   "metadata": {},
   "source": [
    "# Dictionary Comprehensions"
   ]
  },
  {
   "cell_type": "code",
   "execution_count": null,
   "metadata": {},
   "outputs": [],
   "source": [
    "# Creating a dictionary using a comprehension\n",
    "numbers = [1, 2, 3, 4, 5]\n",
    "squared_dict = {num: num ** 2 for num in numbers}\n",
    "\n",
    "print(squared_dict)  # Output: {1: 1, 2: 4, 3: 9, 4: 16, 5: 25}"
   ]
  },
  {
   "attachments": {},
   "cell_type": "markdown",
   "metadata": {},
   "source": [
    "![](../images/2022-10-02-11-57-59.png)\n"
   ]
  },
  {
   "attachments": {},
   "cell_type": "markdown",
   "metadata": {},
   "source": [
    "# Dictionary Operations and Methods pt:2"
   ]
  },
  {
   "cell_type": "code",
   "execution_count": 15,
   "metadata": {},
   "outputs": [
    {
     "name": "stdout",
     "output_type": "stream",
     "text": [
      "Not Available\n",
      "{'name': 'John', 'age': 20, 'grade': 'A'}\n",
      "{'name': 'John', 'age': 20, 'grade': 'A', 'school': 'XYZ High School', 'city': 'New York'}\n",
      "{'school': 'XYZ High School', 'city': 'New York', 'name': 'John', 'age': 20, 'grade': 'A'}\n"
     ]
    }
   ],
   "source": [
    "# Using dictionary methods\n",
    "student = {\"name\": \"John\", \"age\": 20}\n",
    "\n",
    "# Using get() to handle missing keys\n",
    "grade = student.get(\"grade\", \"Not Available\")\n",
    "print(grade)  # Output: Not Available\n",
    "\n",
    "# Using setdefault() to set a default value for a key\n",
    "student.setdefault(\"grade\", \"A\")\n",
    "print(student)  # Output: {'name': 'John', 'age': 20, 'grade': 'A'}\n",
    "\n",
    "# Using update() to merge dictionaries\n",
    "details = {\"school\": \"XYZ High School\", \"city\": \"New York\"}\n",
    "student.update(details)\n",
    "details.update(student)\n",
    "print(student)  # Output: {'name': 'John', 'age': 20, 'grade': 'A', 'school': 'XYZ High School', 'city': 'New York'}\n",
    "print(details)  # Output: {'name': 'John', 'age': 20, 'grade': 'A', 'school': 'XYZ High School', 'city': 'New York'}\n"
   ]
  }
 ],
 "metadata": {
  "kernelspec": {
   "display_name": "Python 3.10.6 64-bit",
   "language": "python",
   "name": "python3"
  },
  "language_info": {
   "codemirror_mode": {
    "name": "ipython",
    "version": 3
   },
   "file_extension": ".py",
   "mimetype": "text/x-python",
   "name": "python",
   "nbconvert_exporter": "python",
   "pygments_lexer": "ipython3",
   "version": "3.10.11"
  },
  "orig_nbformat": 4,
  "vscode": {
   "interpreter": {
    "hash": "26de051ba29f2982a8de78e945f0abaf191376122a1563185a90213a26c5da77"
   }
  }
 },
 "nbformat": 4,
 "nbformat_minor": 2
}
