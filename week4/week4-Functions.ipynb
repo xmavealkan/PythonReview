{
 "cells": [
  {
   "attachments": {},
   "cell_type": "markdown",
   "metadata": {},
   "source": [
    "# Week 4_1 - Chapter 3: Functions \n",
    "- functions are miniprograms within a program\n",
    "- examples\n",
    "    - built-in functions\n",
    "        - print()\n",
    "        - input()\n",
    "        - len()\n",
    "    - functions written by other people\n",
    "        - random.randint()\n",
    "    - function that we wrote\n",
    "        - hello()"
   ]
  },
  {
   "cell_type": "code",
   "execution_count": 27,
   "metadata": {},
   "outputs": [],
   "source": [
    "import random\n",
    "\n",
    "num = random.randint(1, 100)"
   ]
  },
  {
   "attachments": {},
   "cell_type": "markdown",
   "metadata": {},
   "source": [
    "# KISS - Keep it simple stupid\n",
    "# DRY - Dont repeat yourself"
   ]
  },
  {
   "cell_type": "code",
   "execution_count": 29,
   "metadata": {},
   "outputs": [
    {
     "name": "stdout",
     "output_type": "stream",
     "text": [
      "Hello\n",
      "How are you?\n",
      "Nice to meet you\n",
      "Hello\n",
      "How are you?\n",
      "Nice to meet you\n",
      "Hello\n",
      "How are you?\n",
      "Nice to meet you\n",
      "Hello\n",
      "How are you?\n",
      "Nice to meet you\n",
      "Hello\n",
      "How are you?\n",
      "Nice to meet you\n"
     ]
    }
   ],
   "source": [
    "print(\"Hello\")\n",
    "print(\"How are you?\")\n",
    "print(\"Nice to meet you\")\n",
    "\n",
    "print(\"Hello\")\n",
    "print(\"How are you?\")\n",
    "print(\"Nice to meet you\")\n",
    "\n",
    "\n",
    "print(\"Hello\")\n",
    "print(\"How are you?\")\n",
    "print(\"Nice to meet you\")\n",
    "\n",
    "\n",
    "print(\"Hello\")\n",
    "print(\"How are you?\")\n",
    "print(\"Nice to meet you\")\n",
    "\n",
    "\n",
    "print(\"Hello\")\n",
    "print(\"How are you?\")\n",
    "print(\"Nice to meet you\")"
   ]
  },
  {
   "cell_type": "code",
   "execution_count": 1,
   "metadata": {},
   "outputs": [],
   "source": [
    "def hello():\n",
    "    # --body of the function follows--\n",
    "    print('Howdy!')\n",
    "    print('Howdy!!!')\n",
    "    print('Hello there.')\n",
    "    # --body ends here--\n",
    "    "
   ]
  },
  {
   "cell_type": "code",
   "execution_count": 3,
   "metadata": {},
   "outputs": [
    {
     "name": "stdout",
     "output_type": "stream",
     "text": [
      "Howdy!\n",
      "Howdy!!!\n",
      "Hello there.\n",
      "Howdy!\n",
      "Howdy!!!\n",
      "Hello there.\n",
      "Howdy!\n",
      "Howdy!!!\n",
      "Hello there.\n",
      "Howdy!\n",
      "Howdy!!!\n",
      "Hello there.\n",
      "Howdy!\n",
      "Howdy!!!\n",
      "Hello there.\n",
      "Howdy!\n",
      "Howdy!!!\n",
      "Hello there.\n"
     ]
    }
   ],
   "source": [
    "hello()\n",
    "hello()\n",
    "hello()\n",
    "hello()\n",
    "hello()\n",
    "hello()"
   ]
  },
  {
   "cell_type": "code",
   "execution_count": 4,
   "metadata": {},
   "outputs": [
    {
     "name": "stdout",
     "output_type": "stream",
     "text": [
      "Howdy!\n",
      "Howdy!!!\n",
      "Hello there.\n"
     ]
    }
   ],
   "source": [
    "salomlashuv = hello()\n",
    "salomlashuv"
   ]
  },
  {
   "cell_type": "code",
   "execution_count": 6,
   "metadata": {},
   "outputs": [],
   "source": [
    "# functionsd are mini program\n",
    "# takes input, performs computationb, and returns result\n",
    "def calculate_yearly_salary_new(monthly_salary):\n",
    "    yeary_salary = monthly_salary * 12\n",
    "    return yeary_salary"
   ]
  },
  {
   "cell_type": "code",
   "execution_count": 7,
   "metadata": {},
   "outputs": [
    {
     "name": "stdout",
     "output_type": "stream",
     "text": [
      "Yillik:  3600\n"
     ]
    }
   ],
   "source": [
    "res = calculate_yearly_salary_new(300)\n",
    "print(\"Yillik: \",res)"
   ]
  },
  {
   "cell_type": "code",
   "execution_count": null,
   "metadata": {},
   "outputs": [],
   "source": [
    "hello()\n",
    "hello()\n",
    "hello()"
   ]
  },
  {
   "cell_type": "code",
   "execution_count": null,
   "metadata": {},
   "outputs": [],
   "source": [
    "hello()"
   ]
  },
  {
   "cell_type": "markdown",
   "metadata": {},
   "source": [
    "link for visualization of above program\n",
    "\n",
    "https://autbor.com/hellofunc/"
   ]
  },
  {
   "cell_type": "code",
   "execution_count": null,
   "metadata": {},
   "outputs": [],
   "source": []
  },
  {
   "cell_type": "markdown",
   "metadata": {},
   "source": [
    "## Define, Call, Pass, Argument, Parameter\n",
    "- define make the function\n",
    "- arguments in function call\n",
    "    - what we pass to the function is called arguments\n",
    "    - arguments are typed between paranthesis. E: print('message')\n"
   ]
  },
  {
   "cell_type": "code",
   "execution_count": 15,
   "metadata": {},
   "outputs": [],
   "source": [
    "def hello(qaytarilish): # qaytarilish is the parameter of the function\n",
    "    print(\"qaytarilish is\",qaytarilish)\n",
    "    # --body of the function follows--\n",
    "    if qaytarilish ==1:\n",
    "        print(\"hello\")\n",
    "    else: \n",
    "        print('Howdy!')\n",
    "        print('Howdy!!!')\n",
    "        print('Hello there.')\n",
    "    # --body ends here--\n",
    "\n"
   ]
  },
  {
   "cell_type": "code",
   "execution_count": 16,
   "metadata": {},
   "outputs": [
    {
     "name": "stdout",
     "output_type": "stream",
     "text": [
      "qaytarilish is 1\n",
      "hello\n"
     ]
    }
   ],
   "source": [
    "hello(1)# 1 is an argument of the function"
   ]
  },
  {
   "cell_type": "code",
   "execution_count": 17,
   "metadata": {},
   "outputs": [
    {
     "name": "stdout",
     "output_type": "stream",
     "text": [
      "qaytarilish is 2\n",
      "Howdy!\n",
      "Howdy!!!\n",
      "Hello there.\n"
     ]
    }
   ],
   "source": [
    "hello(2)# name and (), insdie the scope is the call arguments"
   ]
  },
  {
   "cell_type": "code",
   "execution_count": 18,
   "metadata": {},
   "outputs": [
    {
     "name": "stdout",
     "output_type": "stream",
     "text": [
      "Hello, toby\n",
      "lenth of your name is  4\n"
     ]
    }
   ],
   "source": [
    "def sayHello(name):\n",
    "       print('Hello, ' + name)\n",
    "       print(\"lenth of your name is \", len(name))\n",
    "       year = '2023-4'\n",
    "       return 'THis is ' + year \n",
    "\n",
    "userinput = input() # anything that is contains a value is variable (userinput)\n",
    "\n",
    "\n",
    "result = sayHello(userinput) # varioable user input  is an argument of sayHello function"
   ]
  },
  {
   "cell_type": "code",
   "execution_count": 19,
   "metadata": {},
   "outputs": [
    {
     "name": "stdout",
     "output_type": "stream",
     "text": [
      "THis is 2023-4\n"
     ]
    }
   ],
   "source": [
    "print(result)"
   ]
  },
  {
   "cell_type": "code",
   "execution_count": 20,
   "metadata": {},
   "outputs": [],
   "source": [
    "def sayHello(name): # name is a function  param \n",
    "       print('Hello, ' + name)"
   ]
  },
  {
   "cell_type": "markdown",
   "metadata": {},
   "source": [
    "\n"
   ]
  },
  {
   "cell_type": "markdown",
   "metadata": {},
   "source": [
    "### def\n",
    "- defining a function is to create it. \n",
    "- below def statement creates sayHello() function"
   ]
  },
  {
   "cell_type": "code",
   "execution_count": null,
   "metadata": {},
   "outputs": [],
   "source": [
    "def sayHello(name):\n",
    "       print('Hello, ' + name)\n",
    "sayHello('Al')"
   ]
  },
  {
   "cell_type": "code",
   "execution_count": 23,
   "metadata": {},
   "outputs": [
    {
     "name": "stdout",
     "output_type": "stream",
     "text": [
      "6\n"
     ]
    },
    {
     "ename": "TypeError",
     "evalue": "unsupported operand type(s) for ** or pow(): 'NoneType' and 'int'",
     "output_type": "error",
     "traceback": [
      "\u001b[1;31m---------------------------------------------------------------------------\u001b[0m",
      "\u001b[1;31mTypeError\u001b[0m                                 Traceback (most recent call last)",
      "\u001b[1;32m~\\AppData\\Local\\Temp\\ipykernel_2480\\696714140.py\u001b[0m in \u001b[0;36m<module>\u001b[1;34m\u001b[0m\n\u001b[0;32m      4\u001b[0m \u001b[1;33m\u001b[0m\u001b[0m\n\u001b[0;32m      5\u001b[0m \u001b[0mnatija\u001b[0m \u001b[1;33m=\u001b[0m \u001b[0mqoshuv\u001b[0m\u001b[1;33m(\u001b[0m\u001b[1;36m1\u001b[0m\u001b[1;33m,\u001b[0m \u001b[1;36m5\u001b[0m\u001b[1;33m)\u001b[0m \u001b[1;31m# bular argument\u001b[0m\u001b[1;33m\u001b[0m\u001b[1;33m\u001b[0m\u001b[0m\n\u001b[1;32m----> 6\u001b[1;33m \u001b[0mnatija\u001b[0m \u001b[1;33m**\u001b[0m \u001b[1;36m2\u001b[0m\u001b[1;33m\u001b[0m\u001b[1;33m\u001b[0m\u001b[0m\n\u001b[0m",
      "\u001b[1;31mTypeError\u001b[0m: unsupported operand type(s) for ** or pow(): 'NoneType' and 'int'"
     ]
    }
   ],
   "source": [
    "def qoshuv(a, b): # a bilan b bu funksiyani parametrlari\n",
    "    print(a + b)\n",
    "    return None\n",
    "\n",
    "natija = qoshuv(1, 5) # bular argument\n",
    "natija ** 2"
   ]
  },
  {
   "cell_type": "markdown",
   "metadata": {},
   "source": [
    "## Return Values and return Statements\n"
   ]
  },
  {
   "cell_type": "code",
   "execution_count": 24,
   "metadata": {},
   "outputs": [
    {
     "data": {
      "text/plain": [
       "2"
      ]
     },
     "execution_count": 24,
     "metadata": {},
     "output_type": "execute_result"
    }
   ],
   "source": [
    "len('hi') # returns integer value"
   ]
  },
  {
   "cell_type": "code",
   "execution_count": 25,
   "metadata": {},
   "outputs": [
    {
     "data": {
      "text/plain": [
       "5"
      ]
     },
     "execution_count": 25,
     "metadata": {},
     "output_type": "execute_result"
    }
   ],
   "source": [
    "def uzunlik(string):\n",
    "    return len(string)\n",
    "\n",
    "uzunlik(\"salom\")"
   ]
  },
  {
   "cell_type": "code",
   "execution_count": 33,
   "metadata": {},
   "outputs": [],
   "source": [
    "import random\n",
    "\n",
    "def getAnswer(answerNumber): # function param is answerNumber\n",
    "    if answerNumber == 1:\n",
    "        return 'It is certain' # function execution ends here if answerNumber is 1\n",
    "    elif answerNumber == 2:\n",
    "        return 'It is decidedly so'\n",
    "    elif answerNumber == 3:\n",
    "        return 'Yes'\n",
    "    elif answerNumber == 4:\n",
    "        return 'Reply lazy try again'\n",
    "    elif answerNumber == 5:\n",
    "        return 'Ask again later'\n",
    "    elif answerNumber == 6:\n",
    "        return 'Concentrate and ask again'\n",
    "    elif answerNumber == 7:\n",
    "        return 'My reply is no'\n",
    "    elif answerNumber == 8:\n",
    "        return 'Outlook not so good'\n",
    "    elif answerNumber == 9:\n",
    "        return 'Very doubtful'\n",
    "    else:\n",
    "            return \"mor than 10\"\n",
    "    print(\"hi\")"
   ]
  },
  {
   "cell_type": "code",
   "execution_count": 27,
   "metadata": {},
   "outputs": [
    {
     "name": "stdout",
     "output_type": "stream",
     "text": [
      "results thast is returned is mor than 10\n"
     ]
    }
   ],
   "source": [
    "res = getAnswer(10)\n",
    "print(\"results thast is returned is\", res)"
   ]
  },
  {
   "cell_type": "code",
   "execution_count": 28,
   "metadata": {},
   "outputs": [
    {
     "data": {
      "text/plain": [
       "290"
      ]
     },
     "execution_count": 28,
     "metadata": {},
     "output_type": "execute_result"
    }
   ],
   "source": [
    "# funcgional body of randint \n",
    "random.randint(5, 1000) # [begin, end]"
   ]
  },
  {
   "cell_type": "code",
   "execution_count": 37,
   "metadata": {},
   "outputs": [
    {
     "name": "stdout",
     "output_type": "stream",
     "text": [
      "Reply hazy try again\n"
     ]
    }
   ],
   "source": [
    "r = random.randint(1, 9) # get random number \n",
    "fortune = getAnswer(r)\n",
    "print(fortune)\n"
   ]
  },
  {
   "cell_type": "code",
   "execution_count": 38,
   "metadata": {},
   "outputs": [
    {
     "data": {
      "text/plain": [
       "str"
      ]
     },
     "execution_count": 38,
     "metadata": {},
     "output_type": "execute_result"
    }
   ],
   "source": [
    "type(fortune)"
   ]
  },
  {
   "cell_type": "code",
   "execution_count": 46,
   "metadata": {},
   "outputs": [],
   "source": [
    "def mylen(message):\n",
    "    n = len(message)\n",
    "    return n\n"
   ]
  },
  {
   "cell_type": "code",
   "execution_count": 47,
   "metadata": {},
   "outputs": [],
   "source": [
    "res = mylen('UZB')"
   ]
  },
  {
   "cell_type": "code",
   "execution_count": 48,
   "metadata": {},
   "outputs": [],
   "source": [
    "def get_square(i):\n",
    "    return i*i\n",
    "\n"
   ]
  },
  {
   "cell_type": "code",
   "execution_count": 49,
   "metadata": {},
   "outputs": [
    {
     "data": {
      "text/plain": [
       "9"
      ]
     },
     "execution_count": 49,
     "metadata": {},
     "output_type": "execute_result"
    }
   ],
   "source": [
    "get_square(res)"
   ]
  },
  {
   "cell_type": "code",
   "execution_count": null,
   "metadata": {},
   "outputs": [],
   "source": []
  },
  {
   "cell_type": "code",
   "execution_count": null,
   "metadata": {},
   "outputs": [],
   "source": []
  },
  {
   "attachments": {},
   "cell_type": "markdown",
   "metadata": {},
   "source": [
    "## The None Value\n",
    "- return qilinadigan valueni yuqligi bu None\n"
   ]
  },
  {
   "cell_type": "code",
   "execution_count": 60,
   "metadata": {},
   "outputs": [],
   "source": [
    "def sayHello(name):\n",
    "       print('Hello, ' + name)\n",
    "       return \"success\"\n"
   ]
  },
  {
   "cell_type": "code",
   "execution_count": 67,
   "metadata": {},
   "outputs": [
    {
     "name": "stdout",
     "output_type": "stream",
     "text": [
      "Hello, University\n",
      "resultOfSayHello is success\n"
     ]
    }
   ],
   "source": [
    "anyValidVariableName = sayHello(\"University\")\n",
    "print(\"resultOfSayHello is\", anyValidVariableName)"
   ]
  },
  {
   "cell_type": "code",
   "execution_count": 52,
   "metadata": {},
   "outputs": [
    {
     "ename": "TypeError",
     "evalue": "unsupported operand type(s) for +: 'NoneType' and 'NoneType'",
     "output_type": "error",
     "traceback": [
      "\u001b[1;31m---------------------------------------------------------------------------\u001b[0m",
      "\u001b[1;31mTypeError\u001b[0m                                 Traceback (most recent call last)",
      "\u001b[1;32m~\\AppData\\Local\\Temp\\ipykernel_2480\\2255038433.py\u001b[0m in \u001b[0;36m<module>\u001b[1;34m\u001b[0m\n\u001b[1;32m----> 1\u001b[1;33m \u001b[1;32mNone\u001b[0m\u001b[1;33m+\u001b[0m\u001b[1;32mNone\u001b[0m\u001b[1;33m\u001b[0m\u001b[1;33m\u001b[0m\u001b[0m\n\u001b[0m",
      "\u001b[1;31mTypeError\u001b[0m: unsupported operand type(s) for +: 'NoneType' and 'NoneType'"
     ]
    }
   ],
   "source": [
    "None + None"
   ]
  },
  {
   "cell_type": "code",
   "execution_count": 65,
   "metadata": {},
   "outputs": [
    {
     "name": "stdout",
     "output_type": "stream",
     "text": [
      "Hello, Jumabek\n"
     ]
    },
    {
     "data": {
      "text/plain": [
       "'success'"
      ]
     },
     "execution_count": 65,
     "metadata": {},
     "output_type": "execute_result"
    }
   ],
   "source": [
    "sayHello(\"Jumabek\")"
   ]
  },
  {
   "cell_type": "markdown",
   "metadata": {},
   "source": [
    "## Keyword Arguments and the print() Function\n",
    "- keyword argument should map to function params"
   ]
  },
  {
   "cell_type": "code",
   "execution_count": null,
   "metadata": {},
   "outputs": [],
   "source": [
    "print(\"this \", \"is\",\"pritn\", \"message.\",sep=\"*\")"
   ]
  },
  {
   "cell_type": "code",
   "execution_count": null,
   "metadata": {},
   "outputs": [],
   "source": []
  },
  {
   "cell_type": "code",
   "execution_count": null,
   "metadata": {},
   "outputs": [],
   "source": []
  },
  {
   "cell_type": "code",
   "execution_count": null,
   "metadata": {},
   "outputs": [],
   "source": [
    "print(\"this \", \"is\",\"pritn\", \"message.\", end=\"\" )\n",
    "print(\"This is second messge\", end=\"\\n\")\n",
    "print(\"third\", end=\"\")\n",
    "print(\"fourth\", end=\"\")"
   ]
  },
  {
   "cell_type": "code",
   "execution_count": null,
   "metadata": {},
   "outputs": [],
   "source": [
    "# \\n is end of the line character\n",
    "print(\"FIrst link \\n Second Line \")"
   ]
  },
  {
   "cell_type": "code",
   "execution_count": null,
   "metadata": {},
   "outputs": [],
   "source": [
    "print('''\n",
    "line one\\nline two\n",
    "''')"
   ]
  },
  {
   "cell_type": "code",
   "execution_count": null,
   "metadata": {},
   "outputs": [],
   "source": [
    "print(\"Jumabke\", \"ALikhanov\", separate=\"***\")"
   ]
  },
  {
   "cell_type": "code",
   "execution_count": null,
   "metadata": {},
   "outputs": [],
   "source": [
    "def sayHelloAdvancedNew(name, his_age):\n",
    "    print(\"Welcome\", name)\n",
    "    print(\"you are \",his_age, 'old')\n",
    "\n"
   ]
  },
  {
   "cell_type": "code",
   "execution_count": null,
   "metadata": {},
   "outputs": [],
   "source": [
    "sayHelloAdvancedNew(name=\"Javokhir\", his_age=20)"
   ]
  },
  {
   "cell_type": "markdown",
   "metadata": {},
   "source": [
    "## The Call Stack\n"
   ]
  },
  {
   "cell_type": "markdown",
   "metadata": {},
   "source": []
  },
  {
   "cell_type": "code",
   "execution_count": 68,
   "metadata": {},
   "outputs": [],
   "source": [
    "def hello():\n",
    "    # --body of the function follows--\n",
    "    print(\"input your name\")\n",
    "    name = input()\n",
    "    print(\"Hello\", name)\n",
    "    # print('Howdy!')\n",
    "    # print('Howdy!!!')\n",
    "    # print('Hello there.')\n",
    "    # --body ends here--\n",
    "\n",
    "def print_congratz():\n",
    "    print(\"COngratulation\")"
   ]
  },
  {
   "cell_type": "code",
   "execution_count": 69,
   "metadata": {},
   "outputs": [
    {
     "name": "stdout",
     "output_type": "stream",
     "text": [
      "input your name\n",
      "Hello angela\n",
      "function call has finished\n",
      "input your name\n",
      "Hello jessica\n"
     ]
    }
   ],
   "source": [
    "hello() #  compiuter remembers from where did you call the function\n",
    "# at the end of the function executions, goes back to the place you called the function\n",
    "\n",
    "print(\"function call has finished\")\n",
    "\n",
    "hello()\n"
   ]
  },
  {
   "cell_type": "code",
   "execution_count": null,
   "metadata": {},
   "outputs": [],
   "source": [
    "hello() #  compiuter remembers from where did you call the function\n",
    "# at the end of the function executions, goes back to the place you called the function\n",
    "\n",
    "print(\"function call has finished\")\n",
    "\n",
    "print_congratz()"
   ]
  },
  {
   "cell_type": "markdown",
   "metadata": {},
   "source": [
    "# week 4_2 - functions"
   ]
  },
  {
   "cell_type": "markdown",
   "metadata": {},
   "source": [
    "##  Local and Global Scope\n",
    "- local variable is visible only inside the local scope"
   ]
  },
  {
   "cell_type": "code",
   "execution_count": 82,
   "metadata": {},
   "outputs": [],
   "source": [
    "eggs = 12 # anythin outside the function is global\n",
    "\n",
    "name = \"somebody\"\n",
    "age = 111\n",
    "\n",
    "\n",
    "def spam():\n",
    "    eggs = 13\n",
    "    eggs += 1\n",
    "    print(eggs)\n",
    "\n",
    "eggs += 1"
   ]
  },
  {
   "cell_type": "code",
   "execution_count": 81,
   "metadata": {},
   "outputs": [
    {
     "name": "stdout",
     "output_type": "stream",
     "text": [
      "14\n",
      "13\n"
     ]
    }
   ],
   "source": [
    "spam()\n",
    "print(eggs)"
   ]
  },
  {
   "cell_type": "code",
   "execution_count": null,
   "metadata": {},
   "outputs": [],
   "source": [
    "spam()\n"
   ]
  },
  {
   "cell_type": "markdown",
   "metadata": {},
   "source": [
    "## Local Scopes Cannot Use Variables in Other Local Scopes\n"
   ]
  },
  {
   "cell_type": "code",
   "execution_count": 84,
   "metadata": {},
   "outputs": [],
   "source": [
    "def sayHello(name):\n",
    "    age = 20\n",
    "    print(\"hello\", name)\n",
    "\n"
   ]
  },
  {
   "cell_type": "markdown",
   "metadata": {},
   "source": [
    "## Local Variables Cannot Be Used in the Global Scope"
   ]
  },
  {
   "cell_type": "code",
   "execution_count": 85,
   "metadata": {},
   "outputs": [
    {
     "name": "stdout",
     "output_type": "stream",
     "text": [
      "21\n"
     ]
    }
   ],
   "source": [
    "age = 20\n",
    "def test_scope():\n",
    "    age = 21  # computer just test_scope function\n",
    "    print(age)\n",
    "test_scope()"
   ]
  },
  {
   "cell_type": "code",
   "execution_count": 92,
   "metadata": {},
   "outputs": [],
   "source": [
    "age # local scope\n",
    "# age is not global\n",
    "eggs = 15"
   ]
  },
  {
   "cell_type": "code",
   "execution_count": 70,
   "metadata": {},
   "outputs": [
    {
     "name": "stdout",
     "output_type": "stream",
     "text": [
      "input your name\n",
      "Hello sam\n"
     ]
    }
   ],
   "source": [
    "hello()"
   ]
  },
  {
   "cell_type": "markdown",
   "metadata": {},
   "source": [
    "## Global Variables Can Be Read from a Local Scope\n"
   ]
  },
  {
   "cell_type": "code",
   "execution_count": 93,
   "metadata": {},
   "outputs": [],
   "source": [
    "eggs = 12 # anythin outside the function is global\n",
    "def spam():\n",
    "    global eggs # function of global is to tell spam() function, I am using eggs as global variable\n",
    "    eggs = 20 # this not a local variable\n",
    "    print(eggs)\n"
   ]
  },
  {
   "cell_type": "code",
   "execution_count": 94,
   "metadata": {},
   "outputs": [
    {
     "name": "stdout",
     "output_type": "stream",
     "text": [
      "20\n"
     ]
    },
    {
     "data": {
      "text/plain": [
       "20"
      ]
     },
     "execution_count": 94,
     "metadata": {},
     "output_type": "execute_result"
    }
   ],
   "source": [
    "spam()\n",
    "eggs"
   ]
  },
  {
   "cell_type": "code",
   "execution_count": null,
   "metadata": {},
   "outputs": [],
   "source": [
    "eggs"
   ]
  },
  {
   "cell_type": "code",
   "execution_count": 95,
   "metadata": {},
   "outputs": [],
   "source": [
    "eggs = 12 # anythin outside the function is global\n",
    "def change_the_value_of_eggs_20():\n",
    "    global eggs\n",
    "    eggs = 20 # new eggs varioble is create in locval scope\n",
    "    \n",
    "    print(eggs)\n"
   ]
  },
  {
   "cell_type": "code",
   "execution_count": 96,
   "metadata": {},
   "outputs": [
    {
     "name": "stdout",
     "output_type": "stream",
     "text": [
      "20\n"
     ]
    }
   ],
   "source": [
    "change_the_value_of_eggs_20()"
   ]
  },
  {
   "cell_type": "code",
   "execution_count": null,
   "metadata": {},
   "outputs": [],
   "source": [
    "eggs"
   ]
  },
  {
   "cell_type": "code",
   "execution_count": null,
   "metadata": {},
   "outputs": [],
   "source": [
    "# just access the global variable inside the function\n",
    "eggs = 12 # anythin outside the function is global\n",
    "def spam():\n",
    "    global eggs # function of global is to tell spam() function, I am using eggs as global variable\n",
    "    print(eggs)\n"
   ]
  },
  {
   "cell_type": "code",
   "execution_count": null,
   "metadata": {},
   "outputs": [],
   "source": [
    "spam()"
   ]
  },
  {
   "cell_type": "markdown",
   "metadata": {},
   "source": [
    "## Exception Handling\n"
   ]
  },
  {
   "cell_type": "code",
   "execution_count": 98,
   "metadata": {},
   "outputs": [
    {
     "name": "stdout",
     "output_type": "stream",
     "text": [
      "21.0\n",
      "3.5\n",
      "Excepping  division by zero\n",
      "42.0\n"
     ]
    }
   ],
   "source": [
    "def spam(divideBy):\n",
    "    return 42 / divideBy\n",
    "\n",
    "print(spam(2))\n",
    "\n",
    "print(spam(12))\n",
    "\n",
    "try:\n",
    "    print(spam(0)) # because of this error we did not have chance to execute next line\n",
    "except Exception as e:\n",
    "    print(\"Excepping \", e)\n",
    "    \n",
    "print(spam(1)) # line had chance to execute thasnks to try/except"
   ]
  },
  {
   "cell_type": "code",
   "execution_count": 103,
   "metadata": {},
   "outputs": [
    {
     "data": {
      "text/plain": [
       "1.0"
      ]
     },
     "execution_count": 103,
     "metadata": {},
     "output_type": "execute_result"
    }
   ],
   "source": [
    "def bulish(a, b):\n",
    "    try:\n",
    "        result = a / b\n",
    "        return result\n",
    "    except Exception as e:\n",
    "        return e\n",
    "\n",
    "bulish(4, 4)"
   ]
  },
  {
   "cell_type": "code",
   "execution_count": 114,
   "metadata": {},
   "outputs": [
    {
     "data": {
      "text/plain": [
       "47"
      ]
     },
     "execution_count": 114,
     "metadata": {},
     "output_type": "execute_result"
    }
   ],
   "source": [
    "import random\n",
    "numbers = list(range(1, 100))\n",
    "random.choice(numbers)"
   ]
  },
  {
   "cell_type": "code",
   "execution_count": 105,
   "metadata": {},
   "outputs": [
    {
     "name": "stdout",
     "output_type": "stream",
     "text": [
      "enter your age\n",
      "You entered wrong type, pls enter integer\n",
      "You will  11 years old after 10 years\n"
     ]
    }
   ],
   "source": [
    "print(\"enter your age\")\n",
    "try:\n",
    "    string_age = input()\n",
    "    my_age = int(string_age)\n",
    "except Exception as e:\n",
    "    print(\"You entered wrong type, pls enter integer\")\n",
    "    string_age = input()\n",
    "    my_age = int(string_age)\n",
    "    \n",
    "print(\"You will \", my_age+10, 'years old after 10 years' )\n",
    "\n"
   ]
  },
  {
   "cell_type": "code",
   "execution_count": null,
   "metadata": {},
   "outputs": [],
   "source": []
  },
  {
   "cell_type": "code",
   "execution_count": null,
   "metadata": {},
   "outputs": [],
   "source": []
  },
  {
   "cell_type": "code",
   "execution_count": null,
   "metadata": {},
   "outputs": [],
   "source": [
    "print(\"enter your age\")\n",
    "try:\n",
    "    # --- error may happen here---\n",
    "    string_age = input()\n",
    "    my_age = int(string_age)\n",
    "    # end of the blow\n",
    "except Exception: # below code handles the error\n",
    "    print(\"PLease only enter integer\")\n",
    "    if string_age=='ten':\n",
    "        my_age = 10\n",
    "    elif string_age == 'twenty':\n",
    "        my_age = 20\n",
    "\n",
    "print(\"You will \", my_age+10, 'years old after 10 years' )\n",
    "\n"
   ]
  },
  {
   "cell_type": "code",
   "execution_count": null,
   "metadata": {},
   "outputs": [],
   "source": [
    "age"
   ]
  },
  {
   "cell_type": "code",
   "execution_count": null,
   "metadata": {},
   "outputs": [],
   "source": []
  },
  {
   "cell_type": "code",
   "execution_count": null,
   "metadata": {},
   "outputs": [],
   "source": [
    "42/0"
   ]
  },
  {
   "cell_type": "markdown",
   "metadata": {},
   "source": [
    "### How try/except works\n",
    "- Errors can be handled with try and except statements.\n",
    "- The code that could potentially have an error is put in a try clause. \n",
    "- The program execution moves to the start of a following except clause if an error happens. "
   ]
  },
  {
   "cell_type": "code",
   "execution_count": null,
   "metadata": {},
   "outputs": [],
   "source": []
  },
  {
   "cell_type": "markdown",
   "metadata": {},
   "source": [
    "# Homework 4"
   ]
  },
  {
   "cell_type": "markdown",
   "metadata": {},
   "source": [
    "## Q0:\n",
    "- define a function that does the following\n",
    "    - takes two string values as arguments \n",
    "        - name\n",
    "        - student id\n",
    "    - concatenates them\n",
    "    - returns the concatenated string\n",
    "- run the function definition\n",
    "- call the function in different cell with two arguments (your name and student id)"
   ]
  },
  {
   "cell_type": "code",
   "execution_count": null,
   "metadata": {},
   "outputs": [],
   "source": [
    "def my_function(name, studentid):\n",
    "    new_str = name+studentid\n",
    "    return new_str\n"
   ]
  },
  {
   "cell_type": "code",
   "execution_count": null,
   "metadata": {},
   "outputs": [],
   "source": [
    "my_function('studnet name','123345')"
   ]
  },
  {
   "cell_type": "code",
   "execution_count": null,
   "metadata": {},
   "outputs": [],
   "source": []
  }
 ],
 "metadata": {
  "kernelspec": {
   "display_name": "Python 3.9.12 ('base')",
   "language": "python",
   "name": "python3"
  },
  "language_info": {
   "codemirror_mode": {
    "name": "ipython",
    "version": 3
   },
   "file_extension": ".py",
   "mimetype": "text/x-python",
   "name": "python",
   "nbconvert_exporter": "python",
   "pygments_lexer": "ipython3",
   "version": "3.9.13"
  },
  "orig_nbformat": 4,
  "vscode": {
   "interpreter": {
    "hash": "b69f83cf7cc54d8611ac92287215a541f8c38d413ad39d2b197609bc58a5d239"
   }
  }
 },
 "nbformat": 4,
 "nbformat_minor": 2
}
