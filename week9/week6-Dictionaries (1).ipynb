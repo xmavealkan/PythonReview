{
 "cells": [
  {
   "attachments": {},
   "cell_type": "markdown",
   "metadata": {},
   "source": [
    "# The Dictionary Data Type\n"
   ]
  },
  {
   "attachments": {},
   "cell_type": "markdown",
   "metadata": {},
   "source": [
    "### A dictionary is a built-in data structure in Python used to store data in key-value pairs.\n",
    "### Dictionaries are also known as associative arrays or hash maps in other programming languages."
   ]
  },
  {
   "cell_type": "code",
   "execution_count": 16,
   "metadata": {},
   "outputs": [],
   "source": [
    "# Empty dictionary\n",
    "empty_dict = {}\n",
    "\n",
    "# Dictionary with initial key-value pairs\n",
    "student = {\"name\": \"John\", \"age\": 20, \"grade\": \"A\"}\n",
    "\n",
    "# Using the dict() constructor\n",
    "book = dict(title=\"Python Cookbook\", author=\"David Beazley\", year=2018)\n"
   ]
  },
  {
   "attachments": {},
   "cell_type": "markdown",
   "metadata": {},
   "source": [
    "### Array - bu pythondagi list"
   ]
  },
  {
   "cell_type": "code",
   "execution_count": 11,
   "metadata": {},
   "outputs": [
    {
     "name": "stdout",
     "output_type": "stream",
     "text": [
      "John\n",
      "David Beazley\n"
     ]
    }
   ],
   "source": [
    "# Accessing values by key\n",
    "print(student[\"name\"])  # Output: John\n",
    "print(book[\"author\"])   # Output: David Beazley"
   ]
  },
  {
   "cell_type": "code",
   "execution_count": 14,
   "metadata": {},
   "outputs": [
    {
     "data": {
      "text/plain": [
       "{'name': 'John', 'age': 21, 'grade': 'A', 'school': 'XYZ High School'}"
      ]
     },
     "execution_count": 14,
     "metadata": {},
     "output_type": "execute_result"
    }
   ],
   "source": [
    "# Modifying a value\n",
    "student[\"age\"] = 21\n",
    "\n",
    "# Adding a new key-value pair\n",
    "\n",
    "student[\"school\"] = \"XYZ High School\"\n",
    "student"
   ]
  },
  {
   "attachments": {},
   "cell_type": "markdown",
   "metadata": {},
   "source": [
    "# Dictionaries vs. Lists\n",
    "\n",
    "### Dictionaries are unordered, meaning that the elements are not stored in a specific order like in a list or tuple.\n"
   ]
  },
  {
   "cell_type": "code",
   "execution_count": 17,
   "metadata": {},
   "outputs": [
    {
     "data": {
      "text/plain": [
       "False"
      ]
     },
     "execution_count": 17,
     "metadata": {},
     "output_type": "execute_result"
    }
   ],
   "source": [
    "spam = ['cats', 'dogs', 'mouse']\n",
    "bacon = ['dogs', 'mouse', 'cats']\n",
    "spam == bacon "
   ]
  },
  {
   "cell_type": "code",
   "execution_count": 18,
   "metadata": {},
   "outputs": [
    {
     "data": {
      "text/plain": [
       "True"
      ]
     },
     "execution_count": 18,
     "metadata": {},
     "output_type": "execute_result"
    }
   ],
   "source": [
    "eggs = {'name': 'Zophie', 'species': 'cat', 'age': '8'}\n",
    "ham = {'species': 'cat', 'age': '8', 'name': 'Zophie'}\n",
    "eggs == ham"
   ]
  },
  {
   "attachments": {},
   "cell_type": "markdown",
   "metadata": {},
   "source": [
    "# The keys(), values(), and items() Methods\n"
   ]
  },
  {
   "cell_type": "code",
   "execution_count": 7,
   "metadata": {},
   "outputs": [
    {
     "name": "stdout",
     "output_type": "stream",
     "text": [
      "dict_items([('name', 'John'), ('age', 20), ('grade', 'A')])\n"
     ]
    }
   ],
   "source": [
    "student = {\"name\": \"John\", \"age\": 20, \"grade\": \"A\"}\n",
    "\n",
    "# Getting the number of key-value pairs\n",
    "print(len(student))  # Output: 4\n",
    "\n",
    "# Retrieving a list of keys\n",
    "print(student.keys())  # Output: dict_keys(['name', 'age', 'grade'])\n",
    "\n",
    "# Retrieving a list of values\n",
    "print(student.values())  # Output: dict_values(['John', 21, 'A'])\n",
    "\n",
    "# Retrieving a list of key-value pairs\n",
    "print(student.items())\n",
    "# Output: dict_items([('name', 'John'), ('age', 21), ('grade', 'A')])\n",
    "\n",
    "('name', 'John') # tuple\n",
    "\n",
    "# Checking if a key exists\n",
    "if \"name\" in student:\n",
    "    print(\"Name key exists\")\n",
    "\n",
    "# Deleting a key-value pair\n",
    "del student[\"grade\"]\n",
    "\n",
    "student"
   ]
  },
  {
   "attachments": {},
   "cell_type": "markdown",
   "metadata": {},
   "source": [
    "# Iterating over Dictionaries\n"
   ]
  },
  {
   "cell_type": "code",
   "execution_count": 3,
   "metadata": {},
   "outputs": [
    {
     "ename": "TypeError",
     "evalue": "get expected at least 1 argument, got 0",
     "output_type": "error",
     "traceback": [
      "\u001b[0;31m---------------------------------------------------------------------------\u001b[0m",
      "\u001b[0;31mTypeError\u001b[0m                                 Traceback (most recent call last)",
      "Cell \u001b[0;32mIn[3], line 4\u001b[0m\n\u001b[1;32m      1\u001b[0m student \u001b[39m=\u001b[39m {\u001b[39m\"\u001b[39m\u001b[39mname\u001b[39m\u001b[39m\"\u001b[39m: \u001b[39m\"\u001b[39m\u001b[39mJohn\u001b[39m\u001b[39m\"\u001b[39m, \u001b[39m\"\u001b[39m\u001b[39mage\u001b[39m\u001b[39m\"\u001b[39m: \u001b[39m20\u001b[39m, \u001b[39m\"\u001b[39m\u001b[39mgrade\u001b[39m\u001b[39m\"\u001b[39m: \u001b[39m\"\u001b[39m\u001b[39mA\u001b[39m\u001b[39m\"\u001b[39m}\n\u001b[1;32m      3\u001b[0m \u001b[39m# Iterating over keys\u001b[39;00m\n\u001b[0;32m----> 4\u001b[0m \u001b[39mfor\u001b[39;00m key \u001b[39min\u001b[39;00m student\u001b[39m.\u001b[39;49mget():\n\u001b[1;32m      5\u001b[0m     \u001b[39mprint\u001b[39m(key)\n\u001b[1;32m      7\u001b[0m \u001b[39m# Iterating over values\u001b[39;00m\n",
      "\u001b[0;31mTypeError\u001b[0m: get expected at least 1 argument, got 0"
     ]
    }
   ],
   "source": [
    "student = {\"name\": \"John\", \"age\": 20, \"grade\": \"A\"}\n",
    "\n",
    "\n",
    "# Iterating over keys\n",
    "for key in student.get(, ):\n",
    "    print(key)\n",
    "\n",
    "# Iterating over values\n",
    "for value in student.values():\n",
    "    print(value)\n",
    "\n",
    "# Iterating over key-value pairs\n",
    "for key, value in student.items():\n",
    "    print(key, value)\n"
   ]
  },
  {
   "attachments": {},
   "cell_type": "markdown",
   "metadata": {},
   "source": [
    "# Nested Dictionaries"
   ]
  },
  {
   "cell_type": "code",
   "execution_count": 28,
   "metadata": {},
   "outputs": [
    {
     "name": "stdout",
     "output_type": "stream",
     "text": [
      "95\n"
     ]
    }
   ],
   "source": [
    "# Creating a nested dictionary\n",
    "student = {\n",
    "    \"name\": \"John\",\n",
    "    \"age\": 20,\n",
    "    \"grades\": {\n",
    "        \"math\": 95,\n",
    "        \"science\": 88,\n",
    "        \"history\": 92\n",
    "    }\n",
    "}\n",
    "\n",
    "# Accessing values in nested dictionaries\n",
    "print(student[\"grades\"][\"math\"])  # Output: 95\n"
   ]
  },
  {
   "attachments": {},
   "cell_type": "markdown",
   "metadata": {},
   "source": [
    "# Nested Lists"
   ]
  },
  {
   "cell_type": "code",
   "execution_count": 4,
   "metadata": {},
   "outputs": [
    {
     "data": {
      "text/plain": [
       "400"
      ]
     },
     "execution_count": 4,
     "metadata": {},
     "output_type": "execute_result"
    }
   ],
   "source": [
    "wages = [200, 300, [150, 200, 400], 300] \n",
    "wages[2][2]"
   ]
  },
  {
   "attachments": {},
   "cell_type": "markdown",
   "metadata": {},
   "source": [
    "# Dictionary Comprehensions"
   ]
  },
  {
   "cell_type": "code",
   "execution_count": 32,
   "metadata": {},
   "outputs": [
    {
     "name": "stdout",
     "output_type": "stream",
     "text": [
      "{1: 1, 2: 4, 3: 9, 4: 16, 5: 25}\n"
     ]
    }
   ],
   "source": [
    "numbers = [1, 2, 3, 4, 5]\n",
    "squared_dict = {}\n",
    "\n",
    "# Simple by beginners\n",
    "for num in numbers:\n",
    "    squared_dict[num] = num ** 2\n",
    "\n",
    "# Creating a dictionary using a comprehension\n",
    "squared_dict = {num: num ** 2 for num in numbers}\n",
    "\n",
    "print(squared_dict)  # Output: {1: 1, 2: 4, 3: 9, 4: 16, 5: 25}"
   ]
  },
  {
   "attachments": {},
   "cell_type": "markdown",
   "metadata": {},
   "source": [
    "![](../images/2022-10-02-11-57-59.png)\n"
   ]
  },
  {
   "attachments": {},
   "cell_type": "markdown",
   "metadata": {},
   "source": [
    "# Dictionary Operations and Methods pt:2"
   ]
  },
  {
   "cell_type": "code",
   "execution_count": 34,
   "metadata": {},
   "outputs": [
    {
     "name": "stdout",
     "output_type": "stream",
     "text": [
      "Not Available\n",
      "{'name': 'John', 'age': 20, 'grade': 'A'}\n",
      "{'name': 'John', 'age': 20, 'grade': 'A', 'school': 'XYZ High School', 'city': 'New York'}\n"
     ]
    }
   ],
   "source": [
    "# Using dictionary methods\n",
    "student = {\"name\": \"John\", \"age\": 20}\n",
    "# Using get() to handle missing keys\n",
    "grade = student.get(\"grade\", \"Not Available\")\n",
    "print(grade)  # Output: Not Available\n",
    "\n",
    "# Using setdefault() to set a default value for a key\n",
    "student.setdefault(\"grade\", \"A\")\n",
    "print(student)  # Output: {'name': 'John', 'age': 20, 'grade': 'A'}\n",
    "\n",
    "# Using update() to merge dictionaries\n",
    "details = {\"school\": \"XYZ High School\", \"city\": \"New York\"}\n",
    "student.update(details)\n",
    "print(student)  # Output: {'name': 'John', 'age': 20, 'grade': 'A', 'school': 'XYZ High School', 'city': 'New York'}\n"
   ]
  },
  {
   "attachments": {},
   "cell_type": "markdown",
   "metadata": {},
   "source": [
    "# Classwork"
   ]
  },
  {
   "attachments": {},
   "cell_type": "markdown",
   "metadata": {},
   "source": [
    "### 1. Question: Create a dictionary called \"fruits\" with the following key-value pairs: \"apple\" -> 3, \"banana\" -> 6, \"orange\" -> 4. Print the value of the key \"banana\".\n",
    "Expected answer: 6\n",
    "\n",
    "### 2. Question: Given the dictionary \"ages = {'John': 25, 'Emily': 30, 'Alex': 28}\", add a new key-value pair \"Sarah\" -> 32 to the dictionary.\n",
    "Expected answer: {'John': 25, 'Emily': 30, 'Alex': 28, 'Sarah': 32}\n",
    "\n",
    "### 3. Question: Write a function called \"count_vowels\" that takes a string as input and returns a dictionary with each vowel as a key and the count of that vowel in the string as the value.\n",
    "Example: count_vowels(\"Hello World\") should return {'a': 0, 'e': 1, 'i': 0, 'o': 2, 'u': 0}\n",
    "Expected answer: {'a': 0, 'e': 1, 'i': 0, 'o': 2, 'u': 0}\n",
    "\n",
    "### 4. Question: Given the following dictionary: inventory = {'apples': 10, 'oranges': 15, 'bananas': 5}, write a program to iterate over the dictionary and print each item on a separate line.\n",
    "Expected output:\n",
    "\n",
    "\n",
    "apples: 10\n",
    "\n",
    "oranges: 15\n",
    "\n",
    "bananas: 5\n",
    "\n",
    "### 5. Question: Write a function called \"reverse_dict\" that takes a dictionary as input and returns a new dictionary where the keys and values are swapped.\n",
    "Example: reverse_dict({'a': 1, 'b': 2, 'c': 3}) should return {1: 'a', 2: 'b', 3: 'c'}\n",
    "Expected answer: {1: 'a', 2: 'b', 3: 'c'}"
   ]
  },
  {
   "cell_type": "code",
   "execution_count": 1,
   "metadata": {},
   "outputs": [
    {
     "name": "stdout",
     "output_type": "stream",
     "text": [
      "6\n"
     ]
    }
   ],
   "source": [
    "fruits = {'apple': 3, 'banana': 6, \"orange\": 4}\n",
    "for n in fruits:\n",
    "    if n == 'banana':\n",
    "        print(fruits[n])"
   ]
  },
  {
   "cell_type": "code",
   "execution_count": 9,
   "metadata": {},
   "outputs": [
    {
     "name": "stdout",
     "output_type": "stream",
     "text": [
      "{'John': 25, 'Emily': 30, 'Alex': 28, 'Sarah': 32}\n"
     ]
    }
   ],
   "source": [
    "age = {'John': 25, \"Emily\": 30, \"Alex\": 28}\n",
    "age[\"Sarah\"] = 32\n",
    "print(age)"
   ]
  },
  {
   "cell_type": "code",
   "execution_count": 4,
   "metadata": {},
   "outputs": [
    {
     "name": "stdout",
     "output_type": "stream",
     "text": [
      "{'a': 0, 'e': 1, 'u': 0, 'i': 0, 'o': 3}\n"
     ]
    }
   ],
   "source": [
    "def count_vowels(checkvowels):\n",
    "    vowels = {'a':0, 'e':0, 'u':0, 'i':0, 'o':0}\n",
    "\n",
    "    for n in checkvowels:\n",
    "        if n in vowels.keys():\n",
    "            vowels[n] += 1\n",
    "    \n",
    "    return vowels\n",
    "\n",
    "user_input = input(count_vowels(\"enter the any word: \"))\n",
    "vowels = count_vowels(user_input)\n",
    "print(vowels)"
   ]
  },
  {
   "cell_type": "code",
   "execution_count": 223,
   "metadata": {},
   "outputs": [
    {
     "name": "stdout",
     "output_type": "stream",
     "text": [
      "apples : 10\n",
      "oranges : 15\n",
      "bananas : 5\n"
     ]
    }
   ],
   "source": [
    "\n",
    "inventory = {'apples': 10, 'oranges': 15, 'bananas': 5}\n",
    "for n in inventory:\n",
    "    print(n,':', inventory[n])\n",
    "\n",
    "\n",
    "        "
   ]
  },
  {
   "cell_type": "code",
   "execution_count": 221,
   "metadata": {},
   "outputs": [
    {
     "name": "stdout",
     "output_type": "stream",
     "text": [
      "{1: 'a', 2: 'b', 3: 'c'}\n"
     ]
    }
   ],
   "source": [
    "dictionary_reverse = {'a': 1, 'b': 2, 'c': 3}\n",
    "del dictionary_reverse['a']\n",
    "del dictionary_reverse['b']\n",
    "del dictionary_reverse['c']\n",
    "dictionary_reverse[1] = 'a'\n",
    "dictionary_reverse[2] = 'b'\n",
    "dictionary_reverse[3] = 'c'\n",
    "print(dictionary_reverse)\n"
   ]
  },
  {
   "cell_type": "code",
   "execution_count": 5,
   "metadata": {},
   "outputs": [
    {
     "data": {
      "text/plain": [
       "{1: 'a', 2: 'b', 3: 'c'}"
      ]
     },
     "execution_count": 5,
     "metadata": {},
     "output_type": "execute_result"
    }
   ],
   "source": [
    "def reverse_dict(data):\n",
    "    reversed_data = {}\n",
    "\n",
    "    for key, value in data.items():\n",
    "        reversed_data[value] = key\n",
    "    return reversed_data\n",
    "\n",
    "data = {'a': 1, 'b': 2, 'c': 3}\n",
    "reverse_dict(data)"
   ]
  },
  {
   "cell_type": "code",
   "execution_count": null,
   "metadata": {},
   "outputs": [],
   "source": [
    "def reverse_dict(data):\n",
    "    return"
   ]
  },
  {
   "cell_type": "code",
   "execution_count": 6,
   "metadata": {},
   "outputs": [
    {
     "name": "stdout",
     "output_type": "stream",
     "text": [
      "Загрузка завершена!\n"
     ]
    }
   ],
   "source": [
    "import time\n",
    "\n",
    "total = 100  # Общий размер загрузки\n",
    "\n",
    "for i in range(total + 1):\n",
    "    progress = i / total * 100  # Вычисление прогресса в процентах\n",
    "    print(f\"Загрузка {progress:.1f}%...\", end=\"\\r\")\n",
    "    time.sleep(0.1)  # Задержка для имитации загрузки\n",
    "\n",
    "print(\"Загрузка завершена!\")"
   ]
  },
  {
   "cell_type": "code",
   "execution_count": 4,
   "metadata": {},
   "outputs": [
    {
     "data": {
      "text/plain": [
       "['d',\n",
       " 'o',\n",
       " 'n',\n",
       " \"'\",\n",
       " 't',\n",
       " ' ',\n",
       " 'r',\n",
       " 'e',\n",
       " 'p',\n",
       " 'e',\n",
       " 'a',\n",
       " 't',\n",
       " ' ',\n",
       " 'y',\n",
       " 'o',\n",
       " 'u',\n",
       " 'r',\n",
       " 's',\n",
       " 'e',\n",
       " 'l',\n",
       " 'f']"
      ]
     },
     "execution_count": 4,
     "metadata": {},
     "output_type": "execute_result"
    }
   ],
   "source": [
    "def list_el(data):\n",
    "    empty_list = []\n",
    "    \n",
    "    for n in data: \n",
    "       if n in data:\n",
    "           empty_list.append(n)\n",
    "            \n",
    "    \n",
    "    return empty_list\n",
    "\n",
    "data = input(\"enter the any number: \")\n",
    "list_el(data)\n",
    "\n"
   ]
  }
 ],
 "metadata": {
  "kernelspec": {
   "display_name": "Python 3.10.6 64-bit",
   "language": "python",
   "name": "python3"
  },
  "language_info": {
   "codemirror_mode": {
    "name": "ipython",
    "version": 3
   },
   "file_extension": ".py",
   "mimetype": "text/x-python",
   "name": "python",
   "nbconvert_exporter": "python",
   "pygments_lexer": "ipython3",
   "version": "3.10.11"
  },
  "orig_nbformat": 4,
  "vscode": {
   "interpreter": {
    "hash": "26de051ba29f2982a8de78e945f0abaf191376122a1563185a90213a26c5da77"
   }
  }
 },
 "nbformat": 4,
 "nbformat_minor": 2
}
