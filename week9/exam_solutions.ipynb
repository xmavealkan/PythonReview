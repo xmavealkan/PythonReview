{
 "cells": [
  {
   "cell_type": "code",
   "execution_count": 1,
   "metadata": {},
   "outputs": [
    {
     "ename": "IndentationError",
     "evalue": "expected an indented block after 'for' statement on line 4 (2136102967.py, line 7)",
     "output_type": "error",
     "traceback": [
      "\u001b[0;36m  Cell \u001b[0;32mIn[1], line 7\u001b[0;36m\u001b[0m\n\u001b[0;31m    return\u001b[0m\n\u001b[0m    ^\u001b[0m\n\u001b[0;31mIndentationError\u001b[0m\u001b[0;31m:\u001b[0m expected an indented block after 'for' statement on line 4\n"
     ]
    }
   ],
   "source": [
    "# 1\n",
    "def word_capitalize(sentence):\n",
    "    \n",
    "    for n in sentence:\n",
    "        \n",
    "    \n",
    "    return\n",
    "sentence = input('enter the sentence for capitalize: ')\n",
    "word_capitalize(sentence)\n",
    "\n"
   ]
  },
  {
   "cell_type": "code",
   "execution_count": 1,
   "metadata": {},
   "outputs": [
    {
     "data": {
      "text/plain": [
       "'hUNFEUh'"
      ]
     },
     "execution_count": 1,
     "metadata": {},
     "output_type": "execute_result"
    }
   ],
   "source": [
    "# 2\n",
    "def word_case(string):\n",
    "    string_swap = ''\n",
    "    \n",
    "    for n in string:\n",
    "        if n.islower():\n",
    "            string_swap += n.upper()\n",
    "        elif n.isupper():\n",
    "            string_swap += n.lower()\n",
    "    \n",
    "    return string_swap\n",
    "\n",
    "string  = input(\"enter the any word:\")\n",
    "word_case(string)"
   ]
  },
  {
   "cell_type": "code",
   "execution_count": 7,
   "metadata": {},
   "outputs": [
    {
     "data": {
      "text/plain": [
       "{'hello': 1, 'the': 1, 'are': 1, 'you': 1, 'kapec': 1, 'ti': 1, 'eblan': 1}"
      ]
     },
     "execution_count": 7,
     "metadata": {},
     "output_type": "execute_result"
    }
   ],
   "source": [
    "# 3\n",
    "def word_frequency(word):\n",
    "    word_dict = {}\n",
    "    words = word.split()\n",
    "    \n",
    "    for n in words:\n",
    "        if n in word_dict:\n",
    "            word_dict[n] +=1\n",
    "        else:\n",
    "            word_dict[n] = 1\n",
    "\n",
    "    return word_dict\n",
    "\n",
    "word = input(\"enter the any word: \")\n",
    "word_frequency(word)"
   ]
  },
  {
   "cell_type": "code",
   "execution_count": 4,
   "metadata": {},
   "outputs": [
    {
     "name": "stdout",
     "output_type": "stream",
     "text": [
      "the most frequence character is: e\n"
     ]
    }
   ],
   "source": [
    "# 4\n",
    "def most_frequent_character(letter):\n",
    "    new_dict = {}\n",
    "    for n in letter:\n",
    "        if n in new_dict:\n",
    "            new_dict[n] += 1\n",
    "        else:\n",
    "            new_dict[n] = 1\n",
    "\n",
    "\n",
    "    # new_dict = list(new_dict.values())\n",
    "    # new_dict.sort()\n",
    "    \n",
    "    # new_dict[-1]\n",
    "    maxcount  = 0\n",
    "    result = ''\n",
    "    \n",
    "    for n, count in new_dict.items():\n",
    "        if count > maxcount:\n",
    "            maxcount = count\n",
    "            result = n\n",
    "            \n",
    "    return result\n",
    "\n",
    "letter = input('enter the any sentence: ')\n",
    "result = most_frequent_character(letter)\n",
    "print('the most frequence character is:', result)"
   ]
  },
  {
   "cell_type": "code",
   "execution_count": 6,
   "metadata": {},
   "outputs": [
    {
     "name": "stdout",
     "output_type": "stream",
     "text": [
      "['b', 'c']\n"
     ]
    }
   ],
   "source": [
    "# 5\n",
    "def dict_items(dict1, dict2):\n",
    "    newlist = []\n",
    "    \n",
    "    for n in dict1:\n",
    "        if n in dict2:\n",
    "            newlist.append(n)\n",
    "    return newlist\n",
    "\n",
    "\n",
    "dict1 = {'a': 1, 'b': 2, 'c': 3}\n",
    "dict2 = {'b': 4, 'c': 5, 'd': 6}\n",
    "newlist = dict_items(dict1, dict2)\n",
    "print(newlist)"
   ]
  }
 ],
 "metadata": {
  "kernelspec": {
   "display_name": "Python 3",
   "language": "python",
   "name": "python3"
  },
  "language_info": {
   "codemirror_mode": {
    "name": "ipython",
    "version": 3
   },
   "file_extension": ".py",
   "mimetype": "text/x-python",
   "name": "python",
   "nbconvert_exporter": "python",
   "pygments_lexer": "ipython3",
   "version": "3.10.11"
  },
  "orig_nbformat": 4
 },
 "nbformat": 4,
 "nbformat_minor": 2
}
