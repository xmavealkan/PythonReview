{
 "cells": [
  {
   "attachments": {},
   "cell_type": "markdown",
   "metadata": {},
   "source": [
    "# EXAM\n"
   ]
  },
  {
   "attachments": {},
   "cell_type": "markdown",
   "metadata": {},
   "source": [
    "### 1. You are asked to ensure that the first and last names of people begin with a capital letter in their passports. For example, alison heck should be capitalised correctly as Alison Heck.\n",
    "\n",
    "### Given a full name, your task is to capitalize the name appropriately.\n",
    "\n",
    "### Don`t use title() method"
   ]
  },
  {
   "cell_type": "code",
   "execution_count": 2,
   "metadata": {},
   "outputs": [],
   "source": [
    "# Example 1\n",
    "sample_input = \"TOBY green\"\n",
    "\n",
    "# Output 1\n",
    "sample_result = \"Toby Green\"\n"
   ]
  },
  {
   "cell_type": "code",
   "execution_count": 3,
   "metadata": {},
   "outputs": [],
   "source": [
    "# Example 2\n",
    "sample_input = \"12toby green\"\n",
    "\n",
    "# Output 2\n",
    "sample_result = \"12toby Green\" # Raqamlarni ignore qiling, faqat haflarni katta qilish kerak"
   ]
  },
  {
   "cell_type": "code",
   "execution_count": 15,
   "metadata": {},
   "outputs": [
    {
     "data": {
      "text/plain": [
       "'123гщ ншг'"
      ]
     },
     "execution_count": 15,
     "metadata": {},
     "output_type": "execute_result"
    }
   ],
   "source": [
    "# def word_data(word): \n",
    "#     return  word.lower().capitalize()\n",
    "\n",
    "# word = input(\"enter the any word: \")\n",
    "# word_data(word)"
   ]
  },
  {
   "cell_type": "code",
   "execution_count": null,
   "metadata": {},
   "outputs": [],
   "source": [
    "def word_capitalize(sentence):\n",
    "    \n",
    "    for n in sentence:\n",
    "        \n",
    "    \n",
    "    return\n",
    "sentence = input('enter the sentence for capitalize: ')\n",
    "word_capitalize(sentence)\n",
    "\n"
   ]
  },
  {
   "attachments": {},
   "cell_type": "markdown",
   "metadata": {},
   "source": [
    "### 2. You are given a string and your task is to swap cases. In other words, convert all lowercase letters to uppercase letters and vice versa."
   ]
  },
  {
   "cell_type": "code",
   "execution_count": null,
   "metadata": {},
   "outputs": [],
   "source": [
    "# Example 1\n",
    "sample_input = \"Www.HackerRank.com\"\n",
    "\n",
    "# Stringda qayerda katta harf bulsa, ushani kichkina qilib, qolgan kichkinalarni katta qilindi. Malasan, yuqorida W, H hamd R katta edi, shulardan tashqari barchasini katta qilib, bularni kichkina qilish kerak\n",
    "\n",
    "# Output 1\n",
    "sample_result = \"wWW.hACKERrANK.COM\" "
   ]
  },
  {
   "cell_type": "code",
   "execution_count": 1,
   "metadata": {},
   "outputs": [
    {
     "data": {
      "text/plain": [
       "'hEKKI'"
      ]
     },
     "execution_count": 1,
     "metadata": {},
     "output_type": "execute_result"
    }
   ],
   "source": [
    "def word_case(string):\n",
    "    string_swap = ''\n",
    "    \n",
    "    for n in string:\n",
    "        if n.islower():\n",
    "            string_swap += n.upper()\n",
    "        elif n.isupper():\n",
    "            string_swap += n.lower()\n",
    "    \n",
    "    return string_swap\n",
    "\n",
    "string  = input(\"enter the any word:\")\n",
    "word_case(string)\n"
   ]
  },
  {
   "attachments": {},
   "cell_type": "markdown",
   "metadata": {},
   "source": [
    "### 3. Write a program that counts and displays the frequency of each word in a sentence, sorted by their frequencies.\n",
    "\n",
    "### Sample Input:\n",
    "\n",
    "### Enter a sentence: \"The cat and the dog jumped over the moon.\"\n",
    "\n",
    "### Sample Output:\n",
    "\n",
    "the: 2\n",
    "\n",
    "over: 1\n",
    "\n",
    "moon: 1\n",
    "\n",
    "jumped: 1\n",
    "\n",
    "dog: 1\n",
    "\n",
    "cat: 1\n",
    "\n",
    "and: 1\n",
    "dict dan 0 value berib, berilgan itemlarni valuesifga + 1 berish kerak"
   ]
  },
  {
   "cell_type": "code",
   "execution_count": 2,
   "metadata": {},
   "outputs": [
    {
     "data": {
      "text/plain": [
       "{'the': 1, 'cat': 1, 'over': 1, 'moon': 1, 'jumped': 1, 'dog': 1, 'and': 1}"
      ]
     },
     "execution_count": 2,
     "metadata": {},
     "output_type": "execute_result"
    }
   ],
   "source": [
    "# def dict_items(item):\n",
    "#     dict_elements = {'the': 0,'cat':0, 'over': 0, 'moon': 0, 'jumped':0,\"dog\":0, 'cat': 0, 'and': 0}\n",
    "    \n",
    "#     for n in dict_elements.keys():\n",
    "#         dict_elements[n] += 1\n",
    "    \n",
    "#     return dict_elements\n",
    "\n",
    "\n",
    "# item = \"The cat and the dog jumped over the moon.\"\n",
    "# dict_items(item)"
   ]
  },
  {
   "cell_type": "code",
   "execution_count": 35,
   "metadata": {},
   "outputs": [
    {
     "data": {
      "text/plain": [
       "{'e': 3,\n",
       " 'h': 1,\n",
       " 'f': 4,\n",
       " 'i': 5,\n",
       " 'u': 5,\n",
       " 'g': 5,\n",
       " 'a': 4,\n",
       " ' ': 2,\n",
       " 'w': 1,\n",
       " 'y': 1,\n",
       " 'o': 1}"
      ]
     },
     "execution_count": 35,
     "metadata": {},
     "output_type": "execute_result"
    }
   ],
   "source": [
    "def word_frequency(word):\n",
    "    word_dict = {}\n",
    "    \n",
    "    for n in word:\n",
    "        if n in word_dict:\n",
    "            word_dict[n] +=1\n",
    "        else:\n",
    "            word_dict[n] = 1\n",
    "\n",
    "    return word_dict\n",
    "\n",
    "word = input(\"enter the any word: \")\n",
    "word_frequency(word)"
   ]
  },
  {
   "attachments": {},
   "cell_type": "markdown",
   "metadata": {},
   "source": [
    "### 4. Write a program that finds and displays the most frequent character in a string.\n",
    "\n",
    "### Sample Input:\n",
    "### Enter a string: \"Hello, World!\"\n",
    "\n",
    "### Sample Output:\n",
    "### The most frequent character is 'l'\n",
    "\n",
    "### Explanation: In the given string, the character 'l' appears three times, which is the highest frequency among all the characters. The program identifies and displays the most frequent character.\n",
    "\n",
    "dict ishlatib kop qaytarilgan harfni print qilish"
   ]
  },
  {
   "cell_type": "code",
   "execution_count": 34,
   "metadata": {},
   "outputs": [
    {
     "name": "stdout",
     "output_type": "stream",
     "text": [
      "the most frequence character is: a\n"
     ]
    }
   ],
   "source": [
    "def most_frequent_character(letter):\n",
    "    new_dict = {}\n",
    "    for n in letter:\n",
    "        if n in new_dict:\n",
    "            new_dict[n] += 1\n",
    "        else:\n",
    "            new_dict[n] = 1\n",
    "\n",
    "\n",
    "    # new_dict = list(new_dict.values())\n",
    "    # new_dict.sort()\n",
    "    \n",
    "    # new_dict[-1]\n",
    "    maxcount  = 0\n",
    "    result = ''\n",
    "    \n",
    "    for n, count in new_dict.items():\n",
    "        if count > maxcount:\n",
    "            maxcount = count\n",
    "            result = n\n",
    "            \n",
    "    return result\n",
    "\n",
    "letter = input('enter the any sentence: ')\n",
    "result = most_frequent_character(letter)\n",
    "print('the most frequence character is:', result)\n"
   ]
  },
  {
   "attachments": {},
   "cell_type": "markdown",
   "metadata": {},
   "source": [
    "### 5. Write a function that takes two dictionaries as input and returns a new list containing the keys that are common to both dictionaries.\n",
    "\n",
    "### Sample Input:\n",
    "### Dictionary 1: {'a': 1, 'b': 2, 'c': 3}\n",
    "### Dictionary 2: {'b': 4, 'c': 5, 'd': 6}\n",
    "\n",
    "### Sample Output:\n",
    "### Common Keys: ['b', 'c']\n",
    "\n",
    "### Explanation: In the given dictionaries, the keys 'b' and 'c' are present in both dictionaries. The function identifies the common keys and returns a new list containing those keys.\n",
    "\n",
    "dictionary birhil itemlarni yengi listga append yordamida otqaizish "
   ]
  },
  {
   "cell_type": "code",
   "execution_count": 13,
   "metadata": {},
   "outputs": [
    {
     "name": "stdout",
     "output_type": "stream",
     "text": [
      "['b', 'c']\n"
     ]
    }
   ],
   "source": [
    "def dict_items(dict1, dict2):\n",
    "    newlist = []\n",
    "    \n",
    "    for n in dict1:\n",
    "        if n in dict2:\n",
    "            newlist.append(n)\n",
    "    return newlist\n",
    "\n",
    "\n",
    "dict1 = {'a': 1, 'b': 2, 'c': 3}\n",
    "dict2 = {'b': 4, 'c': 5, 'd': 6}\n",
    "newlist = dict_items(dict1, dict2)\n",
    "print(newlist)"
   ]
  }
 ],
 "metadata": {
  "kernelspec": {
   "display_name": "base",
   "language": "python",
   "name": "python3"
  },
  "language_info": {
   "codemirror_mode": {
    "name": "ipython",
    "version": 3
   },
   "file_extension": ".py",
   "mimetype": "text/x-python",
   "name": "python",
   "nbconvert_exporter": "python",
   "pygments_lexer": "ipython3",
   "version": "3.10.11"
  },
  "orig_nbformat": 4
 },
 "nbformat": 4,
 "nbformat_minor": 2
}
