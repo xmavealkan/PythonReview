{
 "cells": [
  {
   "attachments": {},
   "cell_type": "markdown",
   "metadata": {},
   "source": [
    "# Manipulating strings"
   ]
  },
  {
   "attachments": {},
   "cell_type": "markdown",
   "metadata": {},
   "source": [
    "###  Strings are sequences of characters and can be enclosed in either single quotes ('') or double quotes (\"\")"
   ]
  },
  {
   "cell_type": "code",
   "execution_count": 8,
   "metadata": {},
   "outputs": [
    {
     "data": {
      "text/plain": [
       "str"
      ]
     },
     "execution_count": 8,
     "metadata": {},
     "output_type": "execute_result"
    }
   ],
   "source": [
    "message = \"Hello, World!\"\n",
    "type(message)"
   ]
  },
  {
   "attachments": {},
   "cell_type": "markdown",
   "metadata": {},
   "source": [
    "### Uppercase and Lowercase Conversion:\n",
    "\n",
    "### The upper() and lower() methods convert a string to uppercase and lowercase, respectively. Here's an example:"
   ]
  },
  {
   "cell_type": "code",
   "execution_count": 12,
   "metadata": {},
   "outputs": [
    {
     "name": "stdout",
     "output_type": "stream",
     "text": [
      "HELLO, WORLD\n",
      "hello, world\n",
      "Hello, world\n"
     ]
    },
    {
     "data": {
      "text/plain": [
       "'HELLO, WORLD'"
      ]
     },
     "execution_count": 12,
     "metadata": {},
     "output_type": "execute_result"
    }
   ],
   "source": [
    "message = \"HELLO, WORLD\"\n",
    "print(message.upper())  # Output: HELLO, WORLD!\n",
    "print(message.lower())  # Output: hello, world!\n",
    "print(message.capitalize())\n",
    "message"
   ]
  },
  {
   "attachments": {},
   "cell_type": "markdown",
   "metadata": {},
   "source": [
    "### The isupper() and islower() methods check if all characters in a string are uppercase or lowercase, respectively. They return a Boolean value"
   ]
  },
  {
   "cell_type": "code",
   "execution_count": 14,
   "metadata": {},
   "outputs": [
    {
     "name": "stdout",
     "output_type": "stream",
     "text": [
      "False\n",
      "False\n",
      "True\n",
      "True\n"
     ]
    }
   ],
   "source": [
    "message = \"Hello, World!\"\n",
    "print(message.isupper())  # Output: False\n",
    "print(message.islower())  # Output: False\n",
    "print(\"HELLO\".isupper())  # Output: True\n",
    "print(\"hello\".islower())  # Output: True"
   ]
  },
  {
   "attachments": {},
   "cell_type": "markdown",
   "metadata": {},
   "source": [
    "### Methods like isalpha(), isalnum(), isdecimal(), and isspace() are used to determine specific characteristics of a string. They return a Boolean value"
   ]
  },
  {
   "cell_type": "code",
   "execution_count": 17,
   "metadata": {},
   "outputs": [
    {
     "name": "stdout",
     "output_type": "stream",
     "text": [
      "True\n",
      "True\n",
      "True\n",
      "True\n"
     ]
    }
   ],
   "source": [
    "print(\"Hello\".isalpha())      # Output: True (only alphabetic characters)\n",
    "print(\"Hello123\".isalnum())   # Output: True (alphanumeric characters)\n",
    "print(\"123\".isdecimal())      # Output: True (decimal digits)\n",
    "print(\"   \".isspace())        # Output: True (whitespace characters)"
   ]
  },
  {
   "attachments": {},
   "cell_type": "markdown",
   "metadata": {},
   "source": [
    "### Checking Start and End:\n",
    "\n",
    "### The startswith() and endswith() methods check if a string starts or ends with a particular substring, respectively. They return a Boolean value."
   ]
  },
  {
   "cell_type": "code",
   "execution_count": 18,
   "metadata": {},
   "outputs": [
    {
     "name": "stdout",
     "output_type": "stream",
     "text": [
      "True\n",
      "True\n"
     ]
    }
   ],
   "source": [
    "message = \"Hello, World!\"\n",
    "print(message.startswith(\"Hello\"))  # Output: True\n",
    "print(message.endswith(\"World!\"))   # Output: True"
   ]
  },
  {
   "attachments": {},
   "cell_type": "markdown",
   "metadata": {},
   "source": [
    "### Joining and Splitting Strings:\n",
    "### The join() method concatenates a list of strings into a single string, and the split() method splits a string into a list of substrings."
   ]
  },
  {
   "cell_type": "code",
   "execution_count": 23,
   "metadata": {},
   "outputs": [
    {
     "name": "stdout",
     "output_type": "stream",
     "text": [
      "Hello World Python\n",
      "['Hello, World', ' salom']\n"
     ]
    }
   ],
   "source": [
    "myList = [\"Hello\", \"World\", \"Python\"]\n",
    "print(\" \".join(myList))         # Output: Hello, World, Python\n",
    "\n",
    "message = \"Hello, World! salom\"\n",
    "print(message.split(\"!\"))           # Output: ['Hello,', 'World!']\n"
   ]
  },
  {
   "attachments": {},
   "cell_type": "markdown",
   "metadata": {},
   "source": [
    "### Padding and Stripping:\n",
    "### Methods like rjust(), ljust(), and center() allow for adding padding and aligning strings within a specific width. The strip(), rstrip(), and lstrip() methods remove whitespace or specified characters from the beginning or end of a string"
   ]
  },
  {
   "cell_type": "code",
   "execution_count": 30,
   "metadata": {},
   "outputs": [
    {
     "name": "stdout",
     "output_type": "stream",
     "text": [
      "     Hello\n",
      "Hello-----\n",
      "***Hello***\n",
      "Python\n",
      "   Python\n",
      "Python   \n"
     ]
    }
   ],
   "source": [
    "message = \"Hello\"\n",
    "print(message.rjust(10))         # Output:      Hello\n",
    "print(message.ljust(10, \"-\"))    # Output: Hello-----\n",
    "print(message.center(11, \"*\"))   # Output: **Hello***\n",
    "\n",
    "message = \"   Python   \"\n",
    "print(message.strip())           # Output: Python\n",
    "print(message.rstrip())          # Output:    Python\n",
    "print(message.lstrip())          # Output: Python   \n"
   ]
  },
  {
   "attachments": {},
   "cell_type": "markdown",
   "metadata": {},
   "source": [
    "# Homework"
   ]
  },
  {
   "attachments": {},
   "cell_type": "markdown",
   "metadata": {},
   "source": [
    "### 1. Write a function named count_vowels that takes a string as input and returns a dictionary containing the count of each letter in the string. Ignore case sensitivity. For example, if the input is \"Hello, World!\", the output should be {'h': 1, 'e': 1, 'l': 3, 'o': 2, 'w': 1, 'r':1, 'd':1}"
   ]
  },
  {
   "attachments": {},
   "cell_type": "markdown",
   "metadata": {},
   "source": [
    "### 2. Create a program that prompts the user to enter a sentence and then prints the sentence with each word reversed. For example, if the input is \"Hello, World!\", the output should be \"olleH, dlroW!\""
   ]
  },
  {
   "cell_type": "code",
   "execution_count": 62,
   "metadata": {},
   "outputs": [
    {
     "data": {
      "text/plain": [
       "{1: 'f', 2: 'g', 3: 'y'}"
      ]
     },
     "execution_count": 62,
     "metadata": {},
     "output_type": "execute_result"
    }
   ],
   "source": [
    "def reverse_dict(data):\n",
    "    reversed_data = {}\n",
    "    \n",
    "    for key, value in data.items():\n",
    "        reversed_data[value] = key\n",
    "        # print(data.items())\n",
    "    \n",
    "    return reversed_data\n",
    "\n",
    "data = {'f':1, \"g\":2, 'y':3}\n",
    "reverse_dict(data)"
   ]
  },
  {
   "cell_type": "code",
   "execution_count": 87,
   "metadata": {},
   "outputs": [
    {
     "name": "stdout",
     "output_type": "stream",
     "text": [
      "{'h': 1, 'e': 1, 'l': 3, 'o': 2, 'w': 1, 'r': 1, 'd': 1}\n"
     ]
    }
   ],
   "source": [
    "def count_vowels(string):\n",
    "    count = {}\n",
    "    \n",
    "    for n in string:\n",
    "        n.lower()\n",
    "        if n.isalpha():\n",
    "            count[n] = count.get(n, 0) + 1\n",
    "            \n",
    "    return count\n",
    "string = input(\"enter the any number: \")\n",
    "count = count_vowels(string)\n",
    "print(count)"
   ]
  },
  {
   "cell_type": "code",
   "execution_count": 88,
   "metadata": {},
   "outputs": [
    {
     "name": "stdout",
     "output_type": "stream",
     "text": [
      "olleh\n"
     ]
    }
   ],
   "source": [
    "def word_reversed(string):\n",
    "    \n",
    "    for n in string:\n",
    "        n = string[::-1]\n",
    "    \n",
    "    return n\n",
    "\n",
    "string = input(\"enter the any word: \")\n",
    "n = word_reversed(string)\n",
    "print(n)\n"
   ]
  },
  {
   "cell_type": "code",
   "execution_count": 63,
   "metadata": {},
   "outputs": [
    {
     "name": "stdout",
     "output_type": "stream",
     "text": [
      "dlrow olleh\n"
     ]
    }
   ],
   "source": [
    "string = 'hello world'\n",
    "reversed_string = string[::-1]\n",
    "print(reversed_string)"
   ]
  },
  {
   "cell_type": "code",
   "execution_count": 85,
   "metadata": {},
   "outputs": [
    {
     "data": {
      "text/plain": [
       "{'p': 3, 'o': 3, 'n': 3}"
      ]
     },
     "execution_count": 85,
     "metadata": {},
     "output_type": "execute_result"
    }
   ],
   "source": [
    "def count_vowels(string):\n",
    "    count = {}\n",
    "    \n",
    "    for n in string:\n",
    "        n.lower()\n",
    "        if n.isalpha():\n",
    "            count[n] = count.get(n , 0) + 1\n",
    "    \n",
    "    return count\n",
    "\n",
    "string = input('enter the any word: ')\n",
    "count_vowels(string)"
   ]
  },
  {
   "cell_type": "code",
   "execution_count": 5,
   "metadata": {},
   "outputs": [],
   "source": [
    "# def word_changed(word):\n",
    "#     myList = []\n",
    "#     for n in word:\n",
    "#         myList.append(n)\n",
    "#     myList[4] = 'k'\n",
    "#     return ''.join(myList)\n",
    "\n",
    "\n",
    "# word = input('enter the any word: ')\n",
    "# word_changed(word)"
   ]
  },
  {
   "cell_type": "code",
   "execution_count": 26,
   "metadata": {},
   "outputs": [
    {
     "data": {
      "text/plain": [
       "'he         lo world'"
      ]
     },
     "execution_count": 26,
     "metadata": {},
     "output_type": "execute_result"
    }
   ],
   "source": [
    "def word_changed(word):\n",
    "    myList = []\n",
    "    for n in word:\n",
    "        myList.append(n)\n",
    "    myList[2:3] = '         '\n",
    "    newdata = ''.join(myList)\n",
    "    return newdata\n",
    "\n",
    "word = 'hello world'\n",
    "word_changed(word)"
   ]
  },
  {
   "cell_type": "code",
   "execution_count": 4,
   "metadata": {},
   "outputs": [
    {
     "name": "stdout",
     "output_type": "stream",
     "text": [
      "The most frequent character in  hello is l\n"
     ]
    }
   ],
   "source": [
    "def find_most_frequent_char(string):\n",
    "    char_count = {}\n",
    "    \n",
    "    # Count the occurrences of each character\n",
    "    for char in string:\n",
    "        if char in char_count:\n",
    "            char_count[char] += 1\n",
    "        else:\n",
    "            char_count[char] = 1\n",
    "    \n",
    "    # Find the most frequent character\n",
    "    max_count = 0\n",
    "    most_frequent_char = ''\n",
    "    for char, count in char_count.items():\n",
    "        if count > max_count:\n",
    "            max_count = count\n",
    "            most_frequent_char = char\n",
    "    \n",
    "    return most_frequent_char\n",
    "\n",
    "# Example usage\n",
    "input_string = input('enter the any word: ')\n",
    "most_frequent = find_most_frequent_char(input_string)\n",
    "print(\"The most frequent character in \",input_string,'is', most_frequent)\n"
   ]
  }
 ],
 "metadata": {
  "kernelspec": {
   "display_name": "base",
   "language": "python",
   "name": "python3"
  },
  "language_info": {
   "codemirror_mode": {
    "name": "ipython",
    "version": 3
   },
   "file_extension": ".py",
   "mimetype": "text/x-python",
   "name": "python",
   "nbconvert_exporter": "python",
   "pygments_lexer": "ipython3",
   "version": "3.10.11"
  },
  "orig_nbformat": 4
 },
 "nbformat": 4,
 "nbformat_minor": 2
}
