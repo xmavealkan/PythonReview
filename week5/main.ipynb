{
 "cells": [
  {
   "cell_type": "code",
   "execution_count": 1,
   "metadata": {},
   "outputs": [
    {
     "name": "stdout",
     "output_type": "stream",
     "text": [
      "Welcome to Rock, Paper, Scissors!\n",
      "scissors\n",
      "You chose rock\n",
      "Computer chose scissors\n",
      "You win!\n",
      "Thanks for playing!\n"
     ]
    }
   ],
   "source": [
    "# import random\n",
    "\n",
    "# print(\"Welcome to Rock, Paper, Scissors!\")\n",
    "\n",
    "# while True:\n",
    "#     # Ask user to input their move\n",
    "#     computer_move = random.choice(['rock', 'paper', 'scissors'])\n",
    "#     print(computer_move)\n",
    "#     user_move = input(\"Enter your move (rock, paper, or scissors): \")\n",
    "    \n",
    "#     # Check if user's move is valid\n",
    "#     if user_move not in ['rock', 'paper', 'scissors']:\n",
    "#         print(\"Invalid move. Try again.\")\n",
    "#         continue\n",
    "    \n",
    "#     # Generate random computer move\n",
    "    \n",
    "    \n",
    "#     print(\"You chose\", user_move)\n",
    "#     print(\"Computer chose\", computer_move)\n",
    "    \n",
    "#     # Determine winner\n",
    "#     if user_move == computer_move:\n",
    "#         print(\"It's a tie!\")\n",
    "#     elif user_move == 'rock' and computer_move == 'scissors':\n",
    "#         print(\"You win!\")\n",
    "#     elif user_move == 'paper' and computer_move == 'rock':\n",
    "#         print(\"You win!\")\n",
    "#     elif user_move == 'scissors' and computer_move == 'paper':\n",
    "#         print(\"You win!\")\n",
    "#     else:\n",
    "#         print(\"Computer wins!\")\n",
    "    \n",
    "#     # Ask user if they want to play again\n",
    "#     play_again = input(\"Play again? (y/n) \")\n",
    "#     if play_again != 'y':\n",
    "#         break\n",
    "\n",
    "# print(\"Thanks for playing!\")"
   ]
  },
  {
   "cell_type": "code",
   "execution_count": 9,
   "metadata": {},
   "outputs": [
    {
     "name": "stdout",
     "output_type": "stream",
     "text": [
      "Welcome to Rock, Paper, Scissors!\n",
      "it's a tie\n",
      "0 : 0\n",
      "Score for human\n",
      "0 : 1\n",
      "Score for human\n",
      "0 : 2\n",
      "it's a tie\n",
      "0 : 2\n",
      "score for bot\n",
      "1 : 2\n",
      "invalid move. Try again\n",
      "it's a tie\n",
      "1 : 2\n",
      "score for bot\n",
      "2 : 2\n",
      "score for bot\n",
      "computer is winner , human is loser compueter score is: 3 \n",
      "bot score:3 human score:2\n"
     ]
    }
   ],
   "source": [
    "import random\n",
    "\n",
    "print(\"Welcome to Rock, Paper, Scissors!\")\n",
    "moves = [\"rock\", 'paper', 'scissors']\n",
    "computer_score = 0\n",
    "user_score = 0\n",
    "\n",
    "while True:\n",
    "    computer_move = random.choice([\"rock\", 'paper', 'scissors'])\n",
    "    user_move = input('enter the your move: ')\n",
    "    \n",
    "    if user_move not in moves:\n",
    "        print(\"invalid move. Try again\")\n",
    "        continue\n",
    "    if user_move == computer_move:\n",
    "        print(\"it's a tie\")\n",
    "    elif user_move == 'rock' and computer_move == 'paper':\n",
    "        computer_score += 1\n",
    "        print(\"score for bot\")\n",
    "    elif user_move == 'paper' and computer_move == \"scissors\":\n",
    "        computer_score += 1\n",
    "        print(\"score for bot\")\n",
    "    elif user_move == 'scissors' and computer_move == 'rock':\n",
    "        computer_score += 1\n",
    "        print(\"score for bot\")\n",
    "    else:\n",
    "        user_score += 1\n",
    "        print(\"Score for human\")\n",
    "        \n",
    "    # play_again_input = input(\"play again? \")\n",
    "        \n",
    "    if user_score == 3:\n",
    "        print(f\"Winner is human, computer loser user score is:{user_score} \")\n",
    "        print(f\"bot score:{computer_score} human score:{user_score}\")\n",
    "        break\n",
    "    elif computer_score == 3:\n",
    "        print(f'computer is winner , human is loser compueter score is: {computer_score} ')\n",
    "        print(f\"bot score:{computer_score} human score:{user_score}\")\n",
    "        break\n",
    "    \n",
    "    \n",
    "        \n",
    "    print(f\"{computer_score} : {user_score}\")\n",
    "    \n",
    "    \n",
    "    \n",
    "    \n",
    "\n"
   ]
  },
  {
   "cell_type": "code",
   "execution_count": 25,
   "metadata": {},
   "outputs": [
    {
     "name": "stdout",
     "output_type": "stream",
     "text": [
      "Hello\n"
     ]
    }
   ],
   "source": [
    "# num = 0\n",
    "# while True:\n",
    "#     num += 1\n",
    "#     if num == 30:\n",
    "#         break\n",
    "# print(\"Hello\")\n",
    "        \n",
    "\n"
   ]
  }
 ],
 "metadata": {
  "kernelspec": {
   "display_name": "Python 3",
   "language": "python",
   "name": "python3"
  },
  "language_info": {
   "codemirror_mode": {
    "name": "ipython",
    "version": 3
   },
   "file_extension": ".py",
   "mimetype": "text/x-python",
   "name": "python",
   "nbconvert_exporter": "python",
   "pygments_lexer": "ipython3",
   "version": "3.10.11"
  },
  "orig_nbformat": 4
 },
 "nbformat": 4,
 "nbformat_minor": 2
}
