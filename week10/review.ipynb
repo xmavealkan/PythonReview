{
 "cells": [
  {
   "cell_type": "code",
   "execution_count": 5,
   "metadata": {},
   "outputs": [
    {
     "name": "stdout",
     "output_type": "stream",
     "text": [
      "{'u', 'a', 'g', 'o', 'b', 'e', 'f', 'i', 'd', 'c'}\n"
     ]
    }
   ],
   "source": [
    "x ={\"a\",\"b\", \"c\"}\n",
    "y = {\"c\", \"d\",\"e\"}\n",
    "z = {\"f\", \"g\", \"c\"}\n",
    "\n",
    "unlilar = set(['a', 'e', 'i', 'o','u'])\n",
    "d = x.union(y, z)\n",
    "\n",
    "print(d)"
   ]
  }
 ],
 "metadata": {
  "kernelspec": {
   "display_name": "Python 3",
   "language": "python",
   "name": "python3"
  },
  "language_info": {
   "codemirror_mode": {
    "name": "ipython",
    "version": 3
   },
   "file_extension": ".py",
   "mimetype": "text/x-python",
   "name": "python",
   "nbconvert_exporter": "python",
   "pygments_lexer": "ipython3",
   "version": "3.11.3"
  },
  "orig_nbformat": 4
 },
 "nbformat": 4,
 "nbformat_minor": 2
}
