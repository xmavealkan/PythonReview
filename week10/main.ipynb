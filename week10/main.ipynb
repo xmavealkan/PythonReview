{
 "cells": [
  {
   "cell_type": "code",
   "execution_count": 68,
   "metadata": {},
   "outputs": [
    {
     "data": {
      "text/plain": [
       "[1, 4, 9, 16]"
      ]
     },
     "execution_count": 68,
     "metadata": {},
     "output_type": "execute_result"
    }
   ],
   "source": [
    "#1\n",
    "def sum_of_squares(n):\n",
    "    sum = []\n",
    "    for i in range(1, n+1):\n",
    "        sum.append(i**2)\n",
    "    return sum\n",
    "\n",
    "n = int(input(\"enter the number: \"))\n",
    "sum_of_squares(n)\n",
    "\n"
   ]
  },
  {
   "cell_type": "code",
   "execution_count": 116,
   "metadata": {},
   "outputs": [
    {
     "name": "stdout",
     "output_type": "stream",
     "text": [
      "False\n"
     ]
    },
    {
     "data": {
      "text/plain": [
       "2"
      ]
     },
     "execution_count": 116,
     "metadata": {},
     "output_type": "execute_result"
    }
   ],
   "source": [
    "#2\n",
    "def is_prime(n):\n",
    "    if n % 2 != 0:\n",
    "        print(True)\n",
    "    else:\n",
    "        print(False)\n",
    "    return n\n",
    "n = int(input(\"enter the number: \"))\n",
    "is_prime(n)"
   ]
  },
  {
   "cell_type": "code",
   "execution_count": 20,
   "metadata": {},
   "outputs": [
    {
     "name": "stdout",
     "output_type": "stream",
     "text": [
      "[1, 2, 3, 4, 5, 6, 7, 8, 9]\n"
     ]
    }
   ],
   "source": [
    "#3\n",
    "def reverse_list(lst):\n",
    "    l = len(lst)-1\n",
    "    newList = []\n",
    "    i = 0\n",
    "    \n",
    "    while l >= 0:\n",
    "        newList.insert(i, lst[l])\n",
    "        l -= 1\n",
    "        i += 1\n",
    "        \n",
    "        \n",
    "        \n",
    "    return newList\n",
    "lst = list(range(1,10))\n",
    "newList = reverse_list(lst)\n",
    "print(newList)"
   ]
  },
  {
   "cell_type": "code",
   "execution_count": 110,
   "metadata": {},
   "outputs": [
    {
     "data": {
      "text/plain": [
       "[1, 3, 5, 7, 9]"
      ]
     },
     "execution_count": 110,
     "metadata": {},
     "output_type": "execute_result"
    }
   ],
   "source": [
    "#4\n",
    "def remove_even_numbers(lst):\n",
    "    \n",
    "    for n in lst:\n",
    "        if n % 2 == 0:\n",
    "            lst.remove(n)\n",
    "    \n",
    "    return lst\n",
    "lst = list(range(1, 11))\n",
    "remove_even_numbers(lst)\n"
   ]
  },
  {
   "cell_type": "code",
   "execution_count": 139,
   "metadata": {},
   "outputs": [
    {
     "name": "stdout",
     "output_type": "stream",
     "text": [
      "[2000, 2004, 2008, 2012, 2016, 2020, 2024, 2028, 2032, 2036, 2040, 2044, 2048, 2052, 2056, 2060, 2064, 2068, 2072, 2076, 2080, 2084, 2088, 2092, 2096, 2104, 2108, 2112, 2116, 2120, 2124, 2128, 2132, 2136, 2140, 2144, 2148, 2152, 2156, 2160, 2164, 2168, 2172, 2176, 2180, 2184, 2188, 2192, 2196, 2204, 2208, 2212, 2216, 2220, 2224, 2228, 2232, 2236, 2240, 2244, 2248, 2252, 2256, 2260, 2264, 2268, 2272, 2276, 2280, 2284, 2288, 2292, 2296]\n"
     ]
    }
   ],
   "source": [
    "#5\n",
    "def leap_years(start_year, end_year):\n",
    "    newList = []\n",
    "    \n",
    "    for n in range(start_year, end_year+1):\n",
    "        if n % 4 == 0 and n %100 != 0 or n %400 ==0:\n",
    "            newList.append(n)\n",
    "    \n",
    "    return newList\n",
    "start_year = int(input('enter the first year for leap: '))\n",
    "end_year = int(input('enter the second year: '))\n",
    "newList = leap_years(start_year, end_year)\n",
    "print(newList)"
   ]
  },
  {
   "cell_type": "code",
   "execution_count": 12,
   "metadata": {},
   "outputs": [
    {
     "data": {
      "text/plain": [
       "[0, 1, 1, 2, 3, 5]"
      ]
     },
     "execution_count": 12,
     "metadata": {},
     "output_type": "execute_result"
    }
   ],
   "source": [
    "#6\n",
    "def fibonacci_n(nums):\n",
    "    newList = [0, 1]\n",
    "    for n in range(2, nums):\n",
    "        \n",
    "        newList.append(newList[n-1] + newList[n-2])\n",
    "    \n",
    "    return newList\n",
    "nums = int(input('enter the number: '))\n",
    "fibonacci_n(nums)"
   ]
  },
  {
   "cell_type": "code",
   "execution_count": 1,
   "metadata": {},
   "outputs": [
    {
     "data": {
      "text/plain": [
       "120"
      ]
     },
     "execution_count": 1,
     "metadata": {},
     "output_type": "execute_result"
    }
   ],
   "source": [
    "#7\n",
    "def factorial(n):\n",
    "    if n == 0:\n",
    "        return 1\n",
    "    else:\n",
    "        return n * factorial(n - 1)\n",
    "\n",
    "n = int(input(\"enter the number: \"))\n",
    "factorial(n)"
   ]
  },
  {
   "cell_type": "code",
   "execution_count": 192,
   "metadata": {},
   "outputs": [
    {
     "data": {
      "text/plain": [
       "65"
      ]
     },
     "execution_count": 192,
     "metadata": {},
     "output_type": "execute_result"
    }
   ],
   "source": [
    "#8\n",
    "def longest_subsequence(lst):\n",
    "    result = 0\n",
    "    \n",
    "    for n in range(1, lst+1):\n",
    "        result =+ n\n",
    "    \n",
    "    return result\n",
    "\n",
    "lst = int(input('enter the number: '))\n",
    "longest_subsequence(lst)\n",
    "\n"
   ]
  },
  {
   "cell_type": "code",
   "execution_count": 2,
   "metadata": {},
   "outputs": [
    {
     "name": "stdout",
     "output_type": "stream",
     "text": [
      "this word is palindrome\n"
     ]
    },
    {
     "data": {
      "text/plain": [
       "'racecar'"
      ]
     },
     "execution_count": 2,
     "metadata": {},
     "output_type": "execute_result"
    }
   ],
   "source": [
    "#9\n",
    "def is_palindrome(s):\n",
    "    \n",
    "    if s == s[::-1]:\n",
    "        print('this word is palindrome')\n",
    "    else:\n",
    "        print('this word is not palindrome')\n",
    "    return s\n",
    "s = input('enter the any palindrome word: ')\n",
    "is_palindrome(s)"
   ]
  },
  {
   "cell_type": "code",
   "execution_count": 3,
   "metadata": {},
   "outputs": [
    {
     "data": {
      "text/plain": [
       "[3, 4, 9]"
      ]
     },
     "execution_count": 3,
     "metadata": {},
     "output_type": "execute_result"
    }
   ],
   "source": [
    "#10\n",
    "def list_intersection(lst1, lst2):\n",
    "    newList = []\n",
    "    for n in lst1:\n",
    "        if n in lst2:\n",
    "            newList.append(n)\n",
    "    \n",
    "    return newList\n",
    "lst1 = [1,3,4,5,8,9]\n",
    "lst2 = [2,3,4,6,7,9]\n",
    "list_intersection(lst1, lst2)"
   ]
  },
  {
   "attachments": {},
   "cell_type": "markdown",
   "metadata": {},
   "source": [
    "1. Sum of squares: Write a function named sum_of_squares that takes a single integer, n, as its input and returns the sum of the squares of all numbers from 1 to n.\n",
    "\n",
    "2. Prime numbers: Write a function called is_prime that takes an integer n and returns True if n is a prime number, and False otherwise.\n",
    "\n",
    "3. Reverse a list: Write a function named reverse_list that accepts a list as an input and returns the reversed list using slicing. Do not use built-in functions like reverse() or [::-1].\n",
    "\n",
    "4. Remove even numbers from a list: Define a function named remove_even_numbers that takes a list of integers as its input and returns a new list with all even numbers removed.\n",
    "\n",
    "5. Leap years: Create a function named leap_years that takes two integers, start_year and end_year, and returns a list of all leap years between start_year and end_year.\n",
    "\n",
    "6. Fibonacci sequence: Write a function named fibonacci_n that takes an integer n and returns the first n elements of the Fibonacci sequence.\n",
    "\n",
    "7. Factorial: Create a function named factorial that takes an integer n and returns the factorial of n.\n",
    "\n",
    "8. Longest consecutive sequences: Define a function named longest_subsequence that takes a list of integers and returns the longest consecutive subsequence as a list.\n",
    "\n",
    "9. Palindrome: Write a function called is_palindrome that takes a string as its input and returns True if the string is a palindrome, and False otherwise. Employ slicing to check for palindromeness.\n",
    "\n",
    "10. Intersection of two lists: Write a function named list_intersection that takes two lists (with no duplicates) and returns a new list containing their intersection (common elements)."
   ]
  },
  {
   "attachments": {},
   "cell_type": "markdown",
   "metadata": {},
   "source": [
    "def sum_of_squares(n):\n",
    "    # Your code here\n",
    "\n",
    "def is_prime(n):\n",
    "    # Your code here\n",
    "\n",
    "def reverse_list(lst):\n",
    "    # Your code here\n",
    "\n",
    "def remove_even_numbers(lst):\n",
    "    # Your code here\n",
    "\n",
    "def leap_years(start_year, end_year):\n",
    "    # Your code here\n",
    "\n",
    "def fibonacci_n(n):\n",
    "    # Your code here\n",
    "\n",
    "def factorial(n):\n",
    "    # Your code here\n",
    "\n",
    "def longest_subsequence(lst):\n",
    "    # Your code here\n",
    "\n",
    "def is_palindrome(s):\n",
    "    # Your code here\n",
    "\n",
    "def list_intersection(lst1, lst2):\n",
    "    # Your code here"
   ]
  }
 ],
 "metadata": {
  "kernelspec": {
   "display_name": "Python 3",
   "language": "python",
   "name": "python3"
  },
  "language_info": {
   "name": "python",
   "version": "3.11.3"
  },
  "orig_nbformat": 4
 },
 "nbformat": 4,
 "nbformat_minor": 2
}
