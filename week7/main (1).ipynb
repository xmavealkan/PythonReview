{
 "cells": [
  {
   "cell_type": "code",
   "execution_count": 4,
   "metadata": {},
   "outputs": [
    {
     "data": {
      "text/plain": [
       "30"
      ]
     },
     "execution_count": 4,
     "metadata": {},
     "output_type": "execute_result"
    }
   ],
   "source": [
    "# 1\n",
    "def even_sum(num_list):\n",
    "    result = 0\n",
    "\n",
    "    for hgfhfhj in num_list:\n",
    "        if hgfhfhj % 2 == 0:\n",
    "            result += hgfhfhj\n",
    "\n",
    "    return result\n",
    "\n",
    "nums = list(range(1,11))\n",
    "result = even_sum(nums)\n",
    "result"
   ]
  },
  {
   "cell_type": "code",
   "execution_count": 2,
   "metadata": {},
   "outputs": [
    {
     "name": "stdout",
     "output_type": "stream",
     "text": [
      "23\n",
      "uuuuuuueeeeeueuueueuuue\n"
     ]
    }
   ],
   "source": [
    "user_input = input(\"Type any word: \")\n",
    "unlilar = ['a', 'e', 'i', 'o', 'u']\n",
    "\n",
    "count = 0\n",
    "for letter in user_input:\n",
    "    if letter in unlilar:\n",
    "        count += 1\n",
    "\n",
    "print(count)\n",
    "print(user_input)"
   ]
  },
  {
   "cell_type": "code",
   "execution_count": 3,
   "metadata": {},
   "outputs": [
    {
     "name": "stdout",
     "output_type": "stream",
     "text": [
      "['apple', 'banana', 'orange', 'pear']\n"
     ]
    }
   ],
   "source": [
    "def find_strings_with_a(input_list):\n",
    "    output_list = []\n",
    "    for string in input_list:\n",
    "        if 'a' in string:\n",
    "            output_list.append(string)\n",
    "    return output_list\n",
    "\n",
    "input_list = [\"apple\", \"banana\", \"orange\", \"kiwi\", \"pear\"]\n",
    "output_list = find_strings_with_a(input_list)\n",
    "print(output_list)\n"
   ]
  },
  {
   "cell_type": "code",
   "execution_count": 7,
   "metadata": {},
   "outputs": [
    {
     "data": {
      "text/plain": [
       "[1, 3, 5, 7, 9]"
      ]
     },
     "execution_count": 7,
     "metadata": {},
     "output_type": "execute_result"
    }
   ],
   "source": [
    "nums = list(range(1, 11))\n",
    "\n",
    "result = []\n",
    "\n",
    "for n in nums:\n",
    "    if n % 2 != 0:\n",
    "        result.append(n)\n",
    "result"
   ]
  },
  {
   "cell_type": "code",
   "execution_count": 5,
   "metadata": {},
   "outputs": [
    {
     "ename": "NameError",
     "evalue": "name 'n' is not defined",
     "output_type": "error",
     "traceback": [
      "\u001b[0;31m---------------------------------------------------------------------------\u001b[0m",
      "\u001b[0;31mNameError\u001b[0m                                 Traceback (most recent call last)",
      "Cell \u001b[0;32mIn[5], line 1\u001b[0m\n\u001b[0;32m----> 1\u001b[0m n \u001b[39m%\u001b[39m \u001b[39m2\u001b[39m \u001b[39m!=\u001b[39m \u001b[39m0\u001b[39m\n",
      "\u001b[0;31mNameError\u001b[0m: name 'n' is not defined"
     ]
    }
   ],
   "source": [
    "n % 2 != 0"
   ]
  }
 ],
 "metadata": {
  "kernelspec": {
   "display_name": "base",
   "language": "python",
   "name": "python3"
  },
  "language_info": {
   "codemirror_mode": {
    "name": "ipython",
    "version": 3
   },
   "file_extension": ".py",
   "mimetype": "text/x-python",
   "name": "python",
   "nbconvert_exporter": "python",
   "pygments_lexer": "ipython3",
   "version": "3.10.11"
  },
  "orig_nbformat": 4
 },
 "nbformat": 4,
 "nbformat_minor": 2
}
