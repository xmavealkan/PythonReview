{
 "cells": [
  {
   "attachments": {},
   "cell_type": "markdown",
   "metadata": {},
   "source": [
    "### Question 1:\n",
    "### Write a function that takes a list of strings as input and returns a new list with only the strings that have more than five characters.\n",
    "6 uzunlikdagi sozlarni return qilish"
   ]
  },
  {
   "cell_type": "code",
   "execution_count": null,
   "metadata": {},
   "outputs": [],
   "source": [
    "# Sample input\n",
    "input_list = ['apple', 'banana', 'orange', 'kiwi', 'watermelon', 'grape']\n",
    "# Sample output\n",
    "input_list = ['apple', 'banana', 'orange', 'kiwi', 'watermelon', 'grape']\n"
   ]
  },
  {
   "cell_type": "code",
   "execution_count": 7,
   "metadata": {},
   "outputs": [
    {
     "name": "stdout",
     "output_type": "stream",
     "text": [
      "['banana', 'orange', 'watermelon']\n"
     ]
    }
   ],
   "source": [
    "def check_words(word):\n",
    "    result = []\n",
    "    \n",
    "    for n in word:\n",
    "        if len(n) >= 6:\n",
    "            result.append(n)\n",
    "    \n",
    "    return result\n",
    "\n",
    "fruits = ['apple', 'banana', 'orange', 'kiwi', 'watermelon', 'grape']\n",
    "result = check_words(fruits)\n",
    "print(result)\n"
   ]
  },
  {
   "attachments": {},
   "cell_type": "markdown",
   "metadata": {},
   "source": [
    "### Question 2:\n",
    "### Write a program that prompts the user to enter a sentence and then prints the sentence in reverse order, with the words reversed as well."
   ]
  },
  {
   "cell_type": "code",
   "execution_count": 1,
   "metadata": {},
   "outputs": [
    {
     "data": {
      "text/plain": [
       "'?uoy era woh ,dlrow olleH'"
      ]
     },
     "execution_count": 1,
     "metadata": {},
     "output_type": "execute_result"
    }
   ],
   "source": [
    "# sample =  \"Hello world, how are you?\"\n",
    "# output = \"?uoy era woh ,dlrow olleH\""
   ]
  },
  {
   "cell_type": "code",
   "execution_count": 1,
   "metadata": {},
   "outputs": [
    {
     "data": {
      "text/plain": [
       "' gelo olleh'"
      ]
     },
     "execution_count": 1,
     "metadata": {},
     "output_type": "execute_result"
    }
   ],
   "source": [
    "def reversed_word(word):\n",
    "    \n",
    "    for n in word:\n",
    "        n = word[::-1]\n",
    "    \n",
    "    return n \n",
    "word = input(\"enter the any word for reverse: \")\n",
    "reversed_word(word)\n"
   ]
  },
  {
   "attachments": {},
   "cell_type": "markdown",
   "metadata": {},
   "source": [
    "### Question 3:\n",
    "### Write a program that prompts the user to enter a string and checks if it is a palindrome."
   ]
  },
  {
   "cell_type": "code",
   "execution_count": null,
   "metadata": {},
   "outputs": [],
   "source": [
    "# input = \"Racecar\"\n",
    "# print(\"The string is a palindrome.\")"
   ]
  },
  {
   "cell_type": "code",
   "execution_count": 3,
   "metadata": {},
   "outputs": [
    {
     "name": "stdout",
     "output_type": "stream",
     "text": [
      "this is not a palindrome word\n"
     ]
    },
    {
     "data": {
      "text/plain": [
       "'hello'"
      ]
     },
     "execution_count": 3,
     "metadata": {},
     "output_type": "execute_result"
    }
   ],
   "source": [
    "def palindrome_words(word):\n",
    "    \n",
    "    \n",
    "    if word == word[::-1]:\n",
    "        print(\"this is word a palindrome\")\n",
    "    else:\n",
    "        print(\"this is not a palindrome word\")\n",
    "  \n",
    "    return word\n",
    "\n",
    "word = input(\"enter the palindrome word: \")\n",
    "palindrome_words(word)\n",
    "\n"
   ]
  },
  {
   "attachments": {},
   "cell_type": "markdown",
   "metadata": {},
   "source": [
    "### Question 4:\n",
    "### Write a function that takes two lists as input and returns a new list containing the common elements between the two lists."
   ]
  },
  {
   "cell_type": "code",
   "execution_count": null,
   "metadata": {},
   "outputs": [],
   "source": [
    "# Sample lists\n",
    "list1 = [1, 2, 3, 4, 5]\n",
    "list2 = [3, 4, 5, 6, 7]\n",
    "\n",
    "# Output\n",
    "common_elements = [3, 4, 5]"
   ]
  },
  {
   "cell_type": "code",
   "execution_count": 1,
   "metadata": {},
   "outputs": [
    {
     "name": "stdout",
     "output_type": "stream",
     "text": [
      "[3, 4, 5]\n"
     ]
    }
   ],
   "source": [
    "def lists(list1, list2):\n",
    "    result_list = []\n",
    "    \n",
    "    for n in list1:\n",
    "        if n in list2:\n",
    "            result_list.append(n)\n",
    "            \n",
    "    return result_list\n",
    "\n",
    "list1 = [1 ,2, 3, 4, 5]\n",
    "list2 = [3, 4, 5, 6, 7]\n",
    "result_list = lists(list1, list2)\n",
    "print(result_list)\n"
   ]
  },
  {
   "cell_type": "code",
   "execution_count": 2,
   "metadata": {},
   "outputs": [
    {
     "name": "stdout",
     "output_type": "stream",
     "text": [
      "['banana', 'orange', 'watermelon']\n"
     ]
    }
   ],
   "source": [
    "def letters_check(letter):\n",
    "    result = []\n",
    "    \n",
    "    for n in letter:\n",
    "        if len(n) >= 6:\n",
    "            result.append(n)\n",
    "    \n",
    "    return result\n",
    "\n",
    "fruits = ['apple', 'banana', 'orange', 'kiwi', 'watermelon', 'grape']\n",
    "result = letters_check(fruits)\n",
    "print(result)\n",
    "\n",
    "\n"
   ]
  },
  {
   "cell_type": "code",
   "execution_count": 3,
   "metadata": {},
   "outputs": [
    {
     "data": {
      "text/plain": [
       "'loklleh'"
      ]
     },
     "execution_count": 3,
     "metadata": {},
     "output_type": "execute_result"
    }
   ],
   "source": [
    "def reversed_sentence(data):\n",
    "\n",
    "    for n in data:\n",
    "        n = data[::-1]\n",
    "    \n",
    "    return n\n",
    "\n",
    "data = input('enter the any word: ')\n",
    "reversed_sentence(data)"
   ]
  },
  {
   "cell_type": "code",
   "execution_count": 5,
   "metadata": {},
   "outputs": [
    {
     "name": "stdout",
     "output_type": "stream",
     "text": [
      "this is a palindrome word\n"
     ]
    },
    {
     "data": {
      "text/plain": [
       "'racecar'"
      ]
     },
     "execution_count": 5,
     "metadata": {},
     "output_type": "execute_result"
    }
   ],
   "source": [
    "def palindrome_word(word):\n",
    "    \n",
    "    if word in word and word in word[::-1]:\n",
    "        print(\"this is word a palindrome\")\n",
    "    else:\n",
    "        print('this is word a not palindrome')\n",
    "    return word\n",
    "\n",
    "word = input('enter the any word: ')\n",
    "palindrome_words(word)\n"
   ]
  }
 ],
 "metadata": {
  "kernelspec": {
   "display_name": "base",
   "language": "python",
   "name": "python3"
  },
  "language_info": {
   "codemirror_mode": {
    "name": "ipython",
    "version": 3
   },
   "file_extension": ".py",
   "mimetype": "text/x-python",
   "name": "python",
   "nbconvert_exporter": "python",
   "pygments_lexer": "ipython3",
   "version": "3.10.11"
  },
  "orig_nbformat": 4
 },
 "nbformat": 4,
 "nbformat_minor": 2
}
