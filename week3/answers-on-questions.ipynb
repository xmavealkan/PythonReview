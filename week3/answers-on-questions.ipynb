{
 "cells": [
  {
   "attachments": {},
   "cell_type": "markdown",
   "metadata": {},
   "source": [
    "Q1: Why are functions considered advantageous in programming?\n",
    "\n",
    "### chunki funksiya codni bir nechamartda yozishni oldini oladi DRY yoki KISS\n",
    "\n",
    "Q2: Explain the difference between parameters and arguments in a function.\n",
    "\n",
    "### argumentlar bu parametr ichida boladigan argument a parametr bu veriable ga oxshagan function\n",
    "\n",
    "Q3: How do you pass multiple arguments to a function in Python?"
   ]
  },
  {
   "cell_type": "code",
   "execution_count": 17,
   "metadata": {},
   "outputs": [
    {
     "name": "stdout",
     "output_type": "stream",
     "text": [
      "hello world 300\n"
     ]
    }
   ],
   "source": [
    "def my_function(arg1, arg2, arg3):\n",
    "    print(arg1, arg2, arg3)\n",
    "\n",
    "my_function(\"hello\",\"world\",300)\n"
   ]
  },
  {
   "attachments": {},
   "cell_type": "markdown",
   "metadata": {},
   "source": [
    "\n",
    "Q4: What is the difference between a global variable and a local variable in Python? How does this relate to functions?\n",
    "\n",
    "### global veriable bu function ni tashqaridea ochiladi a local veriable bu func ni ichida ochiladi func local verible bilan kop result yaratsa boladi \n",
    "\n",
    "Project: Letter Count\n",
    "\n",
    "Write a Python program that takes a string as input and outputs the letters of that string. Your program should do the following:\n",
    "\n",
    "If the string is \"hel456lo!\", it should return only \"hello\":\n"
   ]
  },
  {
   "cell_type": "code",
   "execution_count": 12,
   "metadata": {},
   "outputs": [
    {
     "name": "stdout",
     "output_type": "stream",
     "text": [
      "hello 10\n"
     ]
    }
   ],
   "source": [
    "string = input(\"Введите строку: \")\n",
    "result = \"\"\n",
    "\n",
    "i = 0\n",
    "while i < len(string):\n",
    "    if string[i].isalpha():\n",
    "        result += string[i]\n",
    "    i += 1\n",
    "\n",
    "print(result, i)"
   ]
  }
 ],
 "metadata": {
  "kernelspec": {
   "display_name": "Python 3",
   "language": "python",
   "name": "python3"
  },
  "language_info": {
   "codemirror_mode": {
    "name": "ipython",
    "version": 3
   },
   "file_extension": ".py",
   "mimetype": "text/x-python",
   "name": "python",
   "nbconvert_exporter": "python",
   "pygments_lexer": "ipython3",
   "version": "3.10.11"
  },
  "orig_nbformat": 4
 },
 "nbformat": 4,
 "nbformat_minor": 2
}
