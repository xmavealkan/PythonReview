{
 "cells": [
  {
   "cell_type": "code",
   "execution_count": 1,
   "metadata": {},
   "outputs": [
    {
     "name": "stdout",
     "output_type": "stream",
     "text": [
      "3\n"
     ]
    }
   ],
   "source": [
    "num1 = 1\n",
    "num2 = 2\n",
    "\n",
    "print(num1 + num2)"
   ]
  },
  {
   "cell_type": "code",
   "execution_count": 15,
   "metadata": {},
   "outputs": [
    {
     "name": "stdout",
     "output_type": "stream",
     "text": [
      "Emily\n",
      "Sophia\n",
      "Olivia\n",
      "Ava\n",
      "Emma\n",
      "Isabella\n",
      "Mia\n",
      "Charlotte\n",
      "Harper\n",
      "Amelia\n"
     ]
    }
   ],
   "source": [
    "names = [\"John\", \"Emily\", \"Michael\", \"Sophia\", \"David\", \"Olivia\", \"Daniel\", \"Ava\", \"William\", \"Emma\", \"Benjamin\", \"Isabella\", \"Samuel\", \"Mia\", \"Matthew\", \"Charlotte\", \"James\", \"Harper\", \"Ethan\", \"Amelia\"]\n",
    "name_length = len(names)\n",
    "for n in range(1,name_length,2):\n",
    "    print(names[n])"
   ]
  },
  {
   "cell_type": "code",
   "execution_count": 24,
   "metadata": {},
   "outputs": [
    {
     "data": {
      "text/plain": [
       "['Emma', 'Isabella', 'Mia', 'Charlotte', 'Harper']"
      ]
     },
     "execution_count": 24,
     "metadata": {},
     "output_type": "execute_result"
    }
   ],
   "source": [
    "names[-11:-1:2]"
   ]
  },
  {
   "cell_type": "code",
   "execution_count": 32,
   "metadata": {},
   "outputs": [
    {
     "name": "stdout",
     "output_type": "stream",
     "text": [
      "0. John - 4ta\n",
      "1. Emily - 5ta\n",
      "2. Michael - 7ta\n",
      "3. Sophia - 6ta\n",
      "4. David - 5ta\n",
      "5. Olivia - 6ta\n",
      "6. Daniel - 6ta\n",
      "7. Ava - 3ta\n",
      "8. William - 7ta\n",
      "9. Emma - 4ta\n",
      "10. Benjamin - 8ta\n",
      "11. Isabella - 8ta\n",
      "12. Samuel - 6ta\n",
      "13. Mia - 3ta\n",
      "14. Matthew - 7ta\n",
      "15. Charlotte - 9ta\n",
      "16. James - 5ta\n",
      "17. Harper - 6ta\n",
      "18. Ethan - 5ta\n",
      "19. Amelia - 6ta\n"
     ]
    }
   ],
   "source": [
    "# names[len()]\n",
    "for index,name in enumerate(names):\n",
    "    print(f\"{index}. {name} - {len(name)}ta\")\n",
    "\n",
    "    "
   ]
  },
  {
   "cell_type": "code",
   "execution_count": 34,
   "metadata": {},
   "outputs": [
    {
     "name": "stdout",
     "output_type": "stream",
     "text": [
      "0. Akbar - 5ta\n",
      "1. Anvar - 5ta\n",
      "2. Aziz - 4ta\n",
      "3. Bakhrom - 7ta\n",
      "4. Davron - 6ta\n",
      "5. Dilshod - 7ta\n",
      "6. Farrukh - 7ta\n",
      "7. Gulnora - 7ta\n",
      "8. Jamila - 6ta\n",
      "9. Kamol - 5ta\n",
      "10. Lola - 4ta\n",
      "11. Mavluda - 7ta\n",
      "12. Nodira - 6ta\n",
      "13. Odiljon - 7ta\n",
      "14. Oydin - 5ta\n",
      "15. Qobil - 5ta\n",
      "16. Rayhon - 6ta\n",
      "17. Sabina - 6ta\n",
      "18. Sardor - 6ta\n",
      "19. Zuhra - 5ta\n"
     ]
    }
   ],
   "source": [
    "def names_input(names):\n",
    "    \n",
    "    for index,name in enumerate(names):\n",
    "        print(f\"{index}. {name} - {len(name)}ta\")\n",
    "\n",
    "uzbek_names = [\"Akbar\", \"Anvar\", \"Aziz\", \"Bakhrom\", \"Davron\", \"Dilshod\", \"Farrukh\", \"Gulnora\", \"Jamila\", \"Kamol\", \"Lola\", \"Mavluda\", \"Nodira\", \"Odiljon\", \"Oydin\", \"Qobil\", \"Rayhon\", \"Sabina\", \"Sardor\", \"Zuhra\"]\n",
    "names_input(uzbek_names)"
   ]
  },
  {
   "cell_type": "code",
   "execution_count": 43,
   "metadata": {},
   "outputs": [
    {
     "name": "stdout",
     "output_type": "stream",
     "text": [
      "['Akb', 'Anv', 'Azi', 'Bak', 'Dav', 'Dil', 'Far', 'Gul', 'Jam', 'Kam', 'Lol', 'Mav', 'Nod', 'Odi', 'Oyd', 'Qob', 'Ray', 'Sab', 'Sar', 'Zuh']\n"
     ]
    }
   ],
   "source": [
    "uzbek_names = [\"Akbar\", \"Anvar\", \"Aziz\", \"Bakhrom\", \"Davron\", \"Dilshod\", \"Farrukh\", \"Gulnora\", \"Jamila\", \"Kamol\", \"Lola\", \"Mavluda\", \"Nodira\", \"Odiljon\", \"Oydin\", \"Qobil\", \"Rayhon\", \"Sabina\", \"Sardor\", \"Zuhra\"]\n",
    "newList = []\n",
    "\n",
    "for n in uzbek_names:\n",
    "    newList.append(n[0:3])\n",
    "print(newList)"
   ]
  },
  {
   "cell_type": "code",
   "execution_count": 49,
   "metadata": {},
   "outputs": [
    {
     "data": {
      "text/plain": [
       "['Akb',\n",
       " 'Anv',\n",
       " 'Azi',\n",
       " 'Bak',\n",
       " 'Dav',\n",
       " 'Dil',\n",
       " 'Far',\n",
       " 'Gul',\n",
       " 'Jam',\n",
       " 'Kam',\n",
       " 'Lol',\n",
       " 'Mav',\n",
       " 'Nod',\n",
       " 'Odi',\n",
       " 'Oyd',\n",
       " 'Qob',\n",
       " 'Ray',\n",
       " 'Sab',\n",
       " 'Sar',\n",
       " 'Zuh',\n",
       " 'Akb',\n",
       " 'Anv',\n",
       " 'Azi',\n",
       " 'Bak',\n",
       " 'Dav',\n",
       " 'Dil',\n",
       " 'Far',\n",
       " 'Gul',\n",
       " 'Jam',\n",
       " 'Kam',\n",
       " 'Lol',\n",
       " 'Mav',\n",
       " 'Nod',\n",
       " 'Odi',\n",
       " 'Oyd',\n",
       " 'Qob',\n",
       " 'Ray',\n",
       " 'Sab',\n",
       " 'Sar',\n",
       " 'Zuh']"
      ]
     },
     "execution_count": 49,
     "metadata": {},
     "output_type": "execute_result"
    }
   ],
   "source": [
    "def bosh_harf(uzbek_names):\n",
    "    newList = []\n",
    "\n",
    "    for n in uzbek_names:\n",
    "        newList.append(n[0:3])\n",
    "    return newList\n",
    "\n",
    "bosh_harf(newList)\n",
    "\n"
   ]
  }
 ],
 "metadata": {
  "kernelspec": {
   "display_name": "Python 3",
   "language": "python",
   "name": "python3"
  },
  "language_info": {
   "codemirror_mode": {
    "name": "ipython",
    "version": 3
   },
   "file_extension": ".py",
   "mimetype": "text/x-python",
   "name": "python",
   "nbconvert_exporter": "python",
   "pygments_lexer": "ipython3",
   "version": "3.10.11"
  },
  "orig_nbformat": 4
 },
 "nbformat": 4,
 "nbformat_minor": 2
}
