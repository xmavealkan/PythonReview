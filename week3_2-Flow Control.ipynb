{
 "cells": [
  {
   "cell_type": "markdown",
   "metadata": {},
   "source": [
    "# Flow Control (2/2)\n",
    "- review Control Statements (if else)\n",
    "- while loop\n",
    "    - trapped in infinite loop\n",
    "    - break\n",
    "    - continue\n",
    "- for loop\n",
    "    - range()\n",
    "\n",
    "- for loop vs. while loop\n",
    "    - difference\n",
    "    - for loops are concise\n",
    "        - start and stop in range\n",
    "- Importing Modules\n",
    "    - built in functions\n",
    "- A Short Program: Guess the Number\n",
    "    -  Ask the player to guess 6 times."
   ]
  },
  {
   "attachments": {},
   "cell_type": "markdown",
   "metadata": {},
   "source": [
    "## Review: Flow Control statements\n"
   ]
  },
  {
   "cell_type": "code",
   "execution_count": 1,
   "metadata": {},
   "outputs": [
    {
     "name": "stdout",
     "output_type": "stream",
     "text": [
      "You are neither Alice nor a little kid.\n"
     ]
    }
   ],
   "source": [
    "name = 'Carol'\n",
    "age = 3000\n",
    "if name == 'Alice':# IF\n",
    "    print('Hi, Alice.')\n",
    "elif age < 12: # ELIF\n",
    "    print('You are not Alice, kiddo.')\n",
    "else: # ELSE \n",
    "    print('You are neither Alice nor a little kid.')"
   ]
  },
  {
   "cell_type": "code",
   "execution_count": 3,
   "metadata": {},
   "outputs": [
    {
     "name": "stdout",
     "output_type": "stream",
     "text": [
      "Hi, Carol.\n"
     ]
    }
   ],
   "source": [
    "name = 'Carol'\n",
    "age = 1000\n",
    "if name == 'Carol':# IF\n",
    "    # BELOW code blockl will EXECUTE\n",
    "    print('Hi, Carol.')"
   ]
  },
  {
   "cell_type": "code",
   "execution_count": 4,
   "metadata": {},
   "outputs": [
    {
     "data": {
      "text/plain": [
       "True"
      ]
     },
     "execution_count": 4,
     "metadata": {},
     "output_type": "execute_result"
    }
   ],
   "source": [
    "'Carol' == 'Carol'"
   ]
  },
  {
   "cell_type": "code",
   "execution_count": 5,
   "metadata": {},
   "outputs": [
    {
     "data": {
      "text/plain": [
       "False"
      ]
     },
     "execution_count": 5,
     "metadata": {},
     "output_type": "execute_result"
    }
   ],
   "source": [
    "age < 12"
   ]
  },
  {
   "cell_type": "code",
   "execution_count": 6,
   "metadata": {},
   "outputs": [
    {
     "data": {
      "text/plain": [
       "False"
      ]
     },
     "execution_count": 6,
     "metadata": {},
     "output_type": "execute_result"
    }
   ],
   "source": [
    "name = 'Carol'\n",
    "age = 3000\n",
    "name == 'Alice'"
   ]
  },
  {
   "cell_type": "code",
   "execution_count": 7,
   "metadata": {},
   "outputs": [
    {
     "name": "stdout",
     "output_type": "stream",
     "text": [
      "your name has C in it\n"
     ]
    }
   ],
   "source": [
    "name = input()\n",
    "age = 3\n",
    "if 'C' in name:\n",
    "    print(\"your name has C in it\") \n",
    "elif name == 'Alice':\n",
    "    print('Hi, Alice.')\n",
    "elif age < 12:\n",
    "    print('You are not Alice, kiddo.') \n",
    "else: # \n",
    "    print('You are neither Alice nor a little kid.') "
   ]
  },
  {
   "cell_type": "markdown",
   "metadata": {},
   "source": [
    "## while loop\n",
    "- loop implies repitition\n",
    "- while loop keeps repeating while the condition is true"
   ]
  },
  {
   "cell_type": "code",
   "execution_count": 3,
   "metadata": {},
   "outputs": [
    {
     "name": "stdout",
     "output_type": "stream",
     "text": [
      "0\n",
      "1\n",
      "2\n",
      "3\n",
      "4\n",
      "5\n"
     ]
    }
   ],
   "source": [
    "number = 0\n",
    "while  number < 5: # Oxirgi qadamda ushbu holat False, qolgan holatda True\n",
    "    print(number)\n",
    "    number += 1\n",
    "\n",
    "print(number)"
   ]
  },
  {
   "cell_type": "code",
   "execution_count": 4,
   "metadata": {},
   "outputs": [
    {
     "name": "stdout",
     "output_type": "stream",
     "text": [
      "Unknown person\n",
      "Unknown person\n",
      "Unknown person\n",
      "You are welcome, Habib\n"
     ]
    }
   ],
   "source": [
    "name = input(\"What`s your name: \")\n",
    "\n",
    "names = [\"Habib\", \"James\", \"Alice\"]\n",
    "\n",
    "while True:\n",
    "    print(\"Unknown person\")\n",
    "    name = input(\"What`s your name again: \")\n",
    "    \n",
    "    if name in names:\n",
    "        print(\"You are welcome, \"+ name)\n",
    "        break\n",
    "\n",
    "# i = 0\n",
    "# while True:\n",
    "#     print(i + 1)"
   ]
  },
  {
   "cell_type": "code",
   "execution_count": null,
   "metadata": {},
   "outputs": [],
   "source": [
    "for counter in range(1,5): # qulay hamda aniq  \n",
    "    print('Please type your name .', counter)\n",
    "    name = input()"
   ]
  },
  {
   "cell_type": "markdown",
   "metadata": {},
   "source": [
    "## for loop\n",
    "- repeat N times"
   ]
  },
  {
   "cell_type": "code",
   "execution_count": 30,
   "metadata": {},
   "outputs": [
    {
     "name": "stdout",
     "output_type": "stream",
     "text": [
      "1\n",
      "2\n",
      "3\n",
      "4\n",
      "5\n",
      "6\n",
      "7\n",
      "8\n",
      "9\n",
      "10\n",
      "11\n",
      "12\n",
      "13\n",
      "14\n",
      "15\n",
      "16\n",
      "17\n",
      "18\n",
      "19\n"
     ]
    }
   ],
   "source": [
    "for i in range(1, 100): # i is a variable    \n",
    "    if i == 20:\n",
    "        break\n",
    "    print(i)"
   ]
  },
  {
   "cell_type": "code",
   "execution_count": 27,
   "metadata": {},
   "outputs": [
    {
     "name": "stdout",
     "output_type": "stream",
     "text": [
      "1\n",
      "4\n",
      "9\n",
      "16\n",
      "25\n"
     ]
    }
   ],
   "source": [
    "numbers = [1,2,3,4,5]\n",
    "for index_variable in numbers: # i is a variable that iterates over the sequence\n",
    "    print(index_variable**2)"
   ]
  },
  {
   "cell_type": "markdown",
   "metadata": {},
   "source": [
    "## for loop vs. while loop\n",
    "- for loop is used when the number of iterations is known \n",
    "- in the while loop, execution is done until the statement in the program is proved wrong"
   ]
  },
  {
   "cell_type": "code",
   "execution_count": null,
   "metadata": {},
   "outputs": [],
   "source": [
    "for i in range(1, 10):\n",
    "    i_squared = i*i # i_squared is a variable\n",
    "    print(i, i_squared)"
   ]
  },
  {
   "cell_type": "code",
   "execution_count": 28,
   "metadata": {},
   "outputs": [
    {
     "name": "stdout",
     "output_type": "stream",
     "text": [
      "Dummy Message \n",
      "Dummy Message \n",
      "Dummy Message \n",
      "Dummy Message \n"
     ]
    }
   ],
   "source": [
    "# this program keeps asking for input until you enter stop\n",
    "while True:\n",
    "    print('Dummy Message ')\n",
    "    string_input = input() # string_input\n",
    "    if string_input == 'stop':\n",
    "        break # break the loop "
   ]
  },
  {
   "cell_type": "code",
   "execution_count": null,
   "metadata": {},
   "outputs": [],
   "source": [
    "# this program keeps asking for input until you enter stop\n",
    "string_input = 'START'\n",
    "while string_input != 'stop': # will stop when statement is false\n",
    "    print('Dummy Message ')\n",
    "    string_input = input() # string_input\n",
    "    print(\"you entered\", string_input)\n",
    "    "
   ]
  },
  {
   "cell_type": "markdown",
   "metadata": {},
   "source": [
    "## importing modules\n",
    "- importing code from other place\n",
    "- no need to import built-in functions \n",
    "    - print()\n",
    "    - input()\n",
    "    - len()"
   ]
  },
  {
   "cell_type": "code",
   "execution_count": 32,
   "metadata": {},
   "outputs": [
    {
     "name": "stdout",
     "output_type": "stream",
     "text": [
      "\n"
     ]
    }
   ],
   "source": [
    "import random # external\n",
    "print() # Built-in chunki bu pythonda ichidagi uzini functioni"
   ]
  },
  {
   "cell_type": "code",
   "execution_count": 37,
   "metadata": {},
   "outputs": [
    {
     "data": {
      "text/plain": [
       "14"
      ]
     },
     "execution_count": 37,
     "metadata": {},
     "output_type": "execute_result"
    }
   ],
   "source": [
    "a = random.randint(2, 21) # () is a function call\n",
    "a"
   ]
  },
  {
   "cell_type": "code",
   "execution_count": null,
   "metadata": {},
   "outputs": [],
   "source": [
    "len('Hello') # len is a function"
   ]
  },
  {
   "cell_type": "markdown",
   "metadata": {},
   "source": [
    "## A Short Program: Guess the Number"
   ]
  },
  {
   "cell_type": "markdown",
   "metadata": {},
   "source": [
    "- gets secret number from computert\n",
    "- asks user to guess  the number\n",
    "- and gives direction\n",
    "    - go higher\n",
    "    - go lower\n",
    "    "
   ]
  },
  {
   "cell_type": "code",
   "execution_count": 14,
   "metadata": {},
   "outputs": [
    {
     "name": "stdout",
     "output_type": "stream",
     "text": [
      "4\n",
      "Take a guess lower!\n",
      "Take a guess higher\n",
      "You lost. You wasted all of your chances.\n",
      "Take a guess higher\n",
      "You lost. You wasted all of your chances.\n"
     ]
    }
   ],
   "source": [
    "import random \n",
    "\n",
    "secret_number = random.randint(1, 10)\n",
    "print(secret_number)\n",
    "chances = 3\n",
    "\n",
    "\n",
    "while chances != 0:\n",
    "    \n",
    "    user_guess = int(input(\"What do you think the number is: \"))\n",
    "\n",
    "    if user_guess == secret_number:\n",
    "        print(\"You found the number. You win!\")\n",
    "        break\n",
    "\n",
    "    elif user_guess > secret_number:\n",
    "        print(\"Take a guess lower!\")\n",
    "        chances -= 1\n",
    "    \n",
    "    else:\n",
    "        print(\"Take a guess higher\")\n",
    "        chances -= 1\n",
    "        print(\"You lost. You wasted all of your chances.\")\n",
    "\n",
    "\n",
    "# 1. Xato inputni tugirlash, yani qaytadan raqamlarni surash\n",
    "# 2. quit suzi yozilsa, programmadan chiqish"
   ]
  },
  {
   "cell_type": "code",
   "execution_count": 27,
   "metadata": {},
   "outputs": [
    {
     "name": "stdout",
     "output_type": "stream",
     "text": [
      "5\n",
      "try again it's not a number\n",
      "try again it's not a number\n",
      "try again it's not a number\n",
      "You lost. You wasted all of your chances.\n"
     ]
    }
   ],
   "source": [
    "import random \n",
    "\n",
    "secret_number = random.randint(1, 10)\n",
    "print(secret_number)\n",
    "chances = 3\n",
    "\n",
    "\n",
    "while chances != 0:\n",
    "    \n",
    "    user_guess = input(\"What do you think the number is from 1 to 10: \")\n",
    "    \n",
    "    if not user_guess.isdigit():\n",
    "        print(\"try again it's not a number\")\n",
    "        chances -=1\n",
    "        continue\n",
    "    user_guess = int(user_guess)\n",
    "   \n",
    "    if user_guess == secret_number:\n",
    "        print(\"You found the number. You win!\")\n",
    "        break\n",
    "\n",
    "    elif user_guess > secret_number:\n",
    "        print(\"Take a guess lower!\")\n",
    "        chances -= 1\n",
    "        \n",
    "    else:\n",
    "        print(\"Take a guess higher\")\n",
    "        chances -= 1\n",
    "if chances == 0:\n",
    "    print(\"You lost. You wasted all of your chances.\")\n"
   ]
  }
 ],
 "metadata": {
  "kernelspec": {
   "display_name": "Python 3.10.4 ('softwareprogramming')",
   "language": "python",
   "name": "python3"
  },
  "language_info": {
   "codemirror_mode": {
    "name": "ipython",
    "version": 3
   },
   "file_extension": ".py",
   "mimetype": "text/x-python",
   "name": "python",
   "nbconvert_exporter": "python",
   "pygments_lexer": "ipython3",
   "version": "3.10.11"
  },
  "orig_nbformat": 4,
  "vscode": {
   "interpreter": {
    "hash": "a6623260947152f84f9cd517aa7c2232a7be449b2413b407550a67ad2d2d4a04"
   }
  }
 },
 "nbformat": 4,
 "nbformat_minor": 2
}
