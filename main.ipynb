{
 "cells": [
  {
   "cell_type": "code",
   "execution_count": 1,
   "metadata": {},
   "outputs": [
    {
     "name": "stdout",
     "output_type": "stream",
     "text": [
      "abdurohman 16\n"
     ]
    }
   ],
   "source": [
    "name = \"abdurohman\"\n",
    "age = 16\n",
    "print(name, age)"
   ]
  },
  {
   "cell_type": "code",
   "execution_count": null,
   "metadata": {},
   "outputs": [],
   "source": []
  },
  {
   "attachments": {},
   "cell_type": "markdown",
   "metadata": {},
   "source": [
    "# First Program\n",
    "- program greets user\n",
    "- asks for name\n",
    "- responds with his name\n",
    "- prints lengths of the name\n",
    "- asks for age\n",
    "- computes the age for the next year and prints"
   ]
  },
  {
   "cell_type": "code",
   "execution_count": 12,
   "metadata": {},
   "outputs": [
    {
     "name": "stdout",
     "output_type": "stream",
     "text": [
      "welcome\n",
      "hello abdurohman\n",
      "10\n",
      "17\n"
     ]
    }
   ],
   "source": [
    "print(\"welcome\")\n",
    "name = input(\"whats your name: \")\n",
    "print(\"hello \" + name )\n",
    "print(len(name))\n",
    "age = input(\"How old are you: \")\n",
    "age = int(age) + 1\n",
    "print(age)"
   ]
  },
  {
   "cell_type": "code",
   "execution_count": 3,
   "metadata": {},
   "outputs": [
    {
     "data": {
      "text/plain": [
       "'spamspamspam'"
      ]
     },
     "execution_count": 3,
     "metadata": {},
     "output_type": "execute_result"
    }
   ],
   "source": [
    "a = \"spam\"\n",
    "\n",
    "\"spam\" + \"spamspam\""
   ]
  },
  {
   "cell_type": "code",
   "execution_count": 1,
   "metadata": {},
   "outputs": [
    {
     "name": "stdout",
     "output_type": "stream",
     "text": [
      "31\n"
     ]
    }
   ],
   "source": [
    "age = input(\"how old are you? \")\n",
    "age = int(age) + 10\n",
    "print(age) \n"
   ]
  },
  {
   "cell_type": "code",
   "execution_count": 1,
   "metadata": {},
   "outputs": [
    {
     "name": "stdout",
     "output_type": "stream",
     "text": [
      "1\n",
      "Пожалуйста, введите только цифры.\n",
      "Загаданное число больше.\n",
      "Загаданное число больше.\n",
      "Загаданное число больше.\n",
      "К сожалению, вы не угадали число. Было загадано 1\n"
     ]
    }
   ],
   "source": [
    "import random\n",
    "\n",
    "secret_number = random.randint(1, 10)\n",
    "print(secret_number)\n",
    "chances = 3\n",
    "\n",
    "while chances > 0:\n",
    "    guess = input(\"Угадайте число от 1 до 10: \")\n",
    "    if not guess.isdigit():\n",
    "        print(\"Пожалуйста, введите только цифры.\")\n",
    "        continue\n",
    "    guess = int(guess)\n",
    "    if guess == secret_number:\n",
    "        print(\"Поздравляем, вы угадали число!\")\n",
    "        break\n",
    "    elif guess < secret_number:\n",
    "        print(\"Загаданное число больше.\")\n",
    "    else:\n",
    "        print(\"Загаданное число меньше.\")\n",
    "    chances -= 1\n",
    "\n",
    "if chances == 0:\n",
    "    print(\"К сожалению, вы не угадали число. Было загадано\", secret_number)\n"
   ]
  },
  {
   "cell_type": "code",
   "execution_count": 1,
   "metadata": {},
   "outputs": [
    {
     "name": "stdout",
     "output_type": "stream",
     "text": [
      "30 + 40 = 70\n",
      "Goodbye\n"
     ]
    }
   ],
   "source": [
    "# create your settings\n",
    "def add(x, y):\n",
    "    return x + y\n",
    "def subtraction(x, y):\n",
    "    return x - y\n",
    "def multiplication(x, y):\n",
    "    return x * y\n",
    "def devide (x, y):\n",
    "    return x / y\n",
    "\n",
    "while True:\n",
    "    choice = input(\"enter choice:\")\n",
    "\n",
    "    \n",
    "    if choice in ('+', '-', '*', '/'):\n",
    "        num1 = int(input(\"enter first number: \"))\n",
    "        num2 = int(input(\"enter second number: \"))\n",
    "        \n",
    "        if choice == \"+\":\n",
    "            print(num1, \"+\", num2, \"=\", add(num1, num2))\n",
    "        elif choice == \"-\":\n",
    "            print(num1, \"-\", num2, '=', subtraction(num1, num2))\n",
    "        elif choice == \"*\":\n",
    "            print(num1, '*', num2, '=', multiplication(num1, num2))\n",
    "        elif choice == '/':\n",
    "            print(num1, '/', num2, '=', devide(num1, num2))\n",
    "    elif choice == \"quit\":\n",
    "        print(\"Goodbye\")\n",
    "        break\n",
    "    else:\n",
    "        print(\"Invalid operation selection\")\n",
    "   \n",
    " "
   ]
  }
 ],
 "metadata": {
  "kernelspec": {
   "display_name": "Python 3",
   "language": "python",
   "name": "python3"
  },
  "language_info": {
   "codemirror_mode": {
    "name": "ipython",
    "version": 3
   },
   "file_extension": ".py",
   "mimetype": "text/x-python",
   "name": "python",
   "nbconvert_exporter": "python",
   "pygments_lexer": "ipython3",
   "version": "3.10.11"
  },
  "orig_nbformat": 4
 },
 "nbformat": 4,
 "nbformat_minor": 2
}
